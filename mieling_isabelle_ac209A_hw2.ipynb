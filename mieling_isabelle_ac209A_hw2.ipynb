{
 "cells": [
  {
   "cell_type": "markdown",
   "metadata": {},
   "source": [
    "# CS 109A/AC 209A/STAT 121A Data Science: Homework 2\n",
    "**Harvard University**<br>\n",
    "**Fall 2016**<br>\n",
    "**Instructors: W. Pan, P. Protopapas, K. Rader**<br>\n",
    "**Due Date: ** Wednesday, September 21st, 2016 at 11:59pm"
   ]
  },
  {
   "cell_type": "markdown",
   "metadata": {},
   "source": [
    "Download the `IPython` notebook as well as the data file from Vocareum and complete locally.\n",
    "\n",
    "To submit your assignment, in Vocareum, upload (using the 'Upload' button on your Jupyter Dashboard) your solution to Vocareum as a single notebook with following file name format:\n",
    "\n",
    "`last_first_CourseNumber_HW2.ipynb`\n",
    "\n",
    "where `CourseNumber` is the course in which you're enrolled (CS 109a, Stats 121a, AC 209a). Submit your assignment in Vocareum using the 'Submit' button.\n",
    "\n",
    "**Avoid editing your file in Vocareum after uploading. If you need to make a change in a solution. Delete your old solution file from Vocareum and upload a new solution. Click submit only ONCE after verifying that you have uploaded the correct file. The assignment will CLOSE after you click the submit button.**\n",
    "\n",
    "\n",
    "Problems on homework assignments are equally weighted. The Challenge Question is required for AC 209A students and optional for all others. Student who complete the Challenge Problem as optional extra credit will receive +0.5% towards your final grade for each correct solution. "
   ]
  },
  {
   "cell_type": "markdown",
   "metadata": {},
   "source": [
    "Import libraries"
   ]
  },
  {
   "cell_type": "code",
   "execution_count": 69,
   "metadata": {
    "collapsed": false
   },
   "outputs": [
    {
     "name": "stdout",
     "output_type": "stream",
     "text": [
      "done\n"
     ]
    }
   ],
   "source": [
    "import numpy as np\n",
    "import pandas as pd\n",
    "import random\n",
    "import sklearn as sk\n",
    "from sklearn.neighbors import KNeighborsRegressor as KNN\n",
    "from sklearn.cross_validation import train_test_split as sk_split\n",
    "from sklearn.linear_model import LinearRegression as Lin_Reg\n",
    "import time\n",
    "import matplotlib\n",
    "import matplotlib.pyplot as plt\n",
    "%matplotlib inline\n",
    "from __future__ import division\n",
    "print 'done'"
   ]
  },
  {
   "cell_type": "markdown",
   "metadata": {},
   "source": [
    "---"
   ]
  },
  {
   "cell_type": "markdown",
   "metadata": {},
   "source": [
    "## Problem 0: Basic Information\n",
    "\n",
    "Fill in your basic information. "
   ]
  },
  {
   "cell_type": "markdown",
   "metadata": {},
   "source": [
    "### Part (a): Your name"
   ]
  },
  {
   "cell_type": "markdown",
   "metadata": {},
   "source": [
    "Mieling, Isabelle"
   ]
  },
  {
   "cell_type": "markdown",
   "metadata": {},
   "source": [
    "### Part (b): Course Number"
   ]
  },
  {
   "cell_type": "markdown",
   "metadata": {},
   "source": [
    "AC 209a"
   ]
  },
  {
   "cell_type": "markdown",
   "metadata": {},
   "source": [
    "### Part (c): Who did you work with?"
   ]
  },
  {
   "cell_type": "markdown",
   "metadata": {},
   "source": [
    "---"
   ]
  },
  {
   "cell_type": "markdown",
   "metadata": {},
   "source": [
    "## Problem 1: Inside the Models in Scikit-learn\n",
    "\n",
    "In this problem, we will be implementing K-Nearest Neighbour and simple linear regression for predicting a quantitative variable. We will compare the performance of our implementation with those of Scikit-learn (``sklearn``).\n",
    "\n",
    "The datasets required for this problem is in the ``dataset`` directory. Each file in the ``dataset`` directory contains a one-dimensional data set, with the first column containing the independent variable X, and the second column containing the dependent variable Y. "
   ]
  },
  {
   "cell_type": "markdown",
   "metadata": {},
   "source": [
    "\n",
    "### Part (a): Implement the models by hand\n",
    "In this part you **may not** use ``sklearn`` for any task.\n",
    "\n",
    "In the following, you may use ``numpy`` arrays instead of ``pandas`` dataframes.\n",
    "\n",
    "- Implement a funtion ``split``, which satifies:\n",
    "    - input: an ``nx2`` dataframe ``data``, a float ``m``\n",
    "    - return: an ``nx2`` dataframe ``train`` and an ``nx2`` dataframe ``test``, consisting of ``m`` percent and ``100 - m`` percent of the data, respectively.\n",
    "\n",
    "\n",
    "- Implement K-Nearest Neighbour for predicting a quantitative variable. That is, write a function, ``knn_predict``, that satisfies:\n",
    "    - input: an integer ``k``, an ``n x 2`` dataframe training set ``train``, an ``n x 1`` dataframe testing set ``test``\n",
    "    - return: an ``nx2`` dataframe, whose first column is that of ``test`` and whose second column is the predicted values.\n",
    "\n",
    "\n",
    "\n",
    "- Implement linear regression for predicting a quantitative variable. That is, write a function ``linear_reg_fit`` that satisfies:\n",
    "    - input: an ``nx2`` dataframe training set ``train``\n",
    "    - return: the coefficients of the linear regression model - a float ``slope`` and a float ``intercept``.\n",
    "    \n",
    "    \n",
    "- Write a function ``linear_reg_predict`` that satisfies:\n",
    "    - input: an ``nx1`` dataframe testing set ``test``, as well as the coefficients of the linear regression model\n",
    "    - return: an ``nx2`` dataframe, whose first column is that of ``test`` and whose second column is the predicted values.\n",
    "    \n",
    "    \n",
    "- Implement a function ``score`` that satisfies:\n",
    "    - input: an ``nx2`` dataframe ``predicted``, an ``nx2`` dataframe ``actual`` \n",
    "    - return: R^2 coefficient of the fit of the predicted values."
   ]
  },
  {
   "cell_type": "code",
   "execution_count": 70,
   "metadata": {
    "collapsed": false
   },
   "outputs": [],
   "source": [
    "def split(data, m) :  # splits data frame into test and train dataset\n",
    "    length = data.shape[0] # get number of rows in dataframe\n",
    "    row_list = range(length)\n",
    "    np.random.shuffle(row_list)\n",
    "    train_rows = row_list[0:int(length * (m/100))]\n",
    "    train = data.iloc[train_rows, :]\n",
    "    test_rows = row_list[int(length * (m/100)):]\n",
    "    test = data.iloc[test_rows, :]\n",
    "    return train, test\n",
    "\n",
    "def knn_predict(k, train, test):  # train - n x 2, test - n x 1\n",
    "    # return n x 2 df, 1st column is test, 2nd is predicte values\n",
    "    predictions = []\n",
    "    for index, test_row in test.iterrows(): # for each test point, store distances between test * training points\n",
    "        distances = (abs(train['x'] - test_row['x']))\n",
    "        distances_ordered = distances.sort_values(ascending=True)\n",
    "        knn_index = distances_ordered.index # this gives indices of training points closest to test\n",
    "        knn = knn_index[:k] # take only the k nearest\n",
    "        predictions.append(np.mean(train.ix[knn]['y'])) # avg values of k neighbors, add to list\n",
    "        # .ix label-location based indexer with integer position feedback\n",
    "    test_copy = test.copy()\n",
    "    test_copy['predictions'] = predictions\n",
    "    return test_copy\n",
    "    \n",
    "def linear_reg_fit(train): # train - n x 2, returns coef of linear reg model\n",
    "    # return float slope, float intercept \n",
    "    # use linear regression to predict fit for dataset \n",
    "    X = train['x']\n",
    "    Y = train['y']\n",
    "    beta1 = np.sum((X - np.mean(X)) * (Y-np.mean(Y))) / np.sum((X-np.mean(X))**2)\n",
    "    beta0 = np.mean(Y) - beta1*np.mean(X)\n",
    "    return beta0, beta1\n",
    "\n",
    "def linear_reg_predict(test, b0, b1): # test is n x 1 and return n x 2 with the predicted y values given coefs\n",
    "    test_copy = test.copy()\n",
    "    predictions = []\n",
    "    for index, test_row in test.iterrows():\n",
    "        why = b0 + (test_row['x'])*b1\n",
    "        predictions.append(why)\n",
    "    test_copy['predictions'] = predictions\n",
    "    return test_copy\n",
    "\n",
    "def score(predicted, actual): # n x 2 for both\n",
    "    # return R^2 coefficient for predicted values\n",
    "    rss = sum((actual['y'] - predicted['predictions'])**2)\n",
    "    tss = sum((actual['y'] - np.mean(actual['y']))**2)\n",
    "\n",
    "    r_sqrd = 1- (rss/tss)\n",
    "    return r_sqrd"
   ]
  },
  {
   "cell_type": "code",
   "execution_count": 71,
   "metadata": {
    "collapsed": false
   },
   "outputs": [
    {
     "name": "stdout",
     "output_type": "stream",
     "text": [
      "   col1  col2  col3\n",
      "2     1    21    22\n",
      "4     3    43     3\n",
      "3     6     6    61\n",
      "0    14     4     5\n",
      "1    23     3     3\n",
      "5   433    43    99\n",
      "**\n",
      "3\n",
      "5\n",
      "4\n",
      "1\n",
      "2\n",
      "6\n"
     ]
    }
   ],
   "source": [
    " \n",
    "arr = pd.Series((14, 23, 1, 6, 3, 433))\n",
    "arr1 = pd.Series((4, 3, 21, 6, 43, 43))\n",
    "arr3 = pd.Series((5, 3, 22, 61, 3, 99))\n",
    "table = pd.DataFrame({'col1' : arr, 'col2' : arr1, 'col3' : arr3})\n",
    "train = table.sort_values('col1')\n",
    "print train\n",
    "print \"**\" \n",
    "for index, train_row in train.iterrows():\n",
    "    print index + 1"
   ]
  },
  {
   "cell_type": "markdown",
   "metadata": {},
   "source": [
    "### Part (b): Compare with ``sklearn``\n",
    "\n",
    "- Load the contents of ``dataset_1_full.txt`` into a ``pandas`` dataframe, or ``numpy`` array. \n",
    "\n",
    "\n",
    "- Use your functions from Part (a) to split the data into training and testing sets (70-30). Evaluate how KNN and linear regression each perform on this dataset.\n",
    "\n",
    "\n",
    "- Use ``sklearn`` to split the data into training and testing sets (70-30). Use ``sklearn`` to evaluate how KNN and linear regression each perform on this dataset.\n",
    "\n",
    "\n",
    "- Use Python's ``time`` library to measure how well your implementations compare with that of ``sklearn``. What can you do (algorithmically or codewise) to make your implementation faster or more efficient?"
   ]
  },
  {
   "cell_type": "code",
   "execution_count": 28,
   "metadata": {
    "collapsed": false
   },
   "outputs": [
    {
     "name": "stdout",
     "output_type": "stream",
     "text": [
      "          x         y\n",
      "0  0.177418  1.401178\n",
      "1  0.573076  3.489890\n",
      "2  0.503775  1.684924\n",
      "3  0.594027  3.898209\n",
      "4  0.335754  2.878410\n"
     ]
    }
   ],
   "source": [
    "df = pd.read_csv('dataset_1_full.txt')\n",
    "print df.head()"
   ]
  },
  {
   "cell_type": "code",
   "execution_count": 103,
   "metadata": {
    "collapsed": false
   },
   "outputs": [
    {
     "name": "stdout",
     "output_type": "stream",
     "text": [
      "350\n",
      "150\n",
      "            x         y\n",
      "264  0.840436  4.040740\n",
      "229  0.905535  4.553214\n",
      "263  0.362631  1.550771\n",
      "334  0.299706  3.425539\n",
      "269  0.409345  1.493940\n",
      "            x         y\n",
      "417  0.800103  4.212261\n",
      "476  0.192838  2.368375\n",
      "489  0.760342  3.282187\n",
      "466  0.423243  1.553945\n",
      "485  0.487418  3.820174\n",
      "            x\n",
      "417  0.800103\n",
      "476  0.192838\n",
      "489  0.760342\n",
      "466  0.423243\n",
      "485  0.487418\n",
      "k = 5\n",
      "            x  predictions\n",
      "417  0.800103     3.471940\n",
      "476  0.192838     2.468971\n",
      "489  0.760342     3.476630\n",
      "466  0.423243     2.644795\n",
      "485  0.487418     2.376168\n",
      "coefficients of train:  1.10054016653 2.78778249664\n",
      "            x  predictions\n",
      "417  0.800103     3.331053\n",
      "476  0.192838     1.638130\n",
      "489  0.760342     3.220210\n",
      "466  0.423243     2.280450\n",
      "485  0.487418     2.459355\n",
      "R^2 :  0.459161449454\n",
      "elapsed time is:  0.150809049606\n"
     ]
    }
   ],
   "source": [
    "start_time = time.time()\n",
    "train, test = split(df, 70)\n",
    "\n",
    "print len(train)\n",
    "print len(test)\n",
    "print train.head()\n",
    "print test.head()\n",
    "\n",
    "test_copy = test.copy()\n",
    "tester = pd.DataFrame(test_copy['x']) # take on the x column from the test df and run this into knn\n",
    "print tester.head()\n",
    "\n",
    "print 'k = 5'\n",
    "tester_knn = knn_predict(5, train, tester) \n",
    "print tester_knn.head()\n",
    "  \n",
    "b0, b1 = linear_reg_fit(train)\n",
    "print \"coefficients of train: \" , b0,b1\n",
    "    \n",
    "linear_reg_prediction = linear_reg_predict(tester, b0, b1)    \n",
    "print linear_reg_prediction.head()\n",
    "    \n",
    "print 'R^2 : ' , \n",
    "print score(linear_reg_prediction, test) \n",
    "elapsed_time = time.time() - start_time\n",
    "print \"elapsed time is: \" , elapsed_time"
   ]
  },
  {
   "cell_type": "code",
   "execution_count": 100,
   "metadata": {
    "collapsed": false
   },
   "outputs": [
    {
     "name": "stdout",
     "output_type": "stream",
     "text": [
      "            x         y\n",
      "307  0.792907  3.724795\n",
      "313  0.828151  3.789137\n",
      "242  0.983623  4.345508\n",
      "246  0.058459 -0.771188\n",
      "450  0.504531  3.704618\n",
      "            x         y\n",
      "362  0.168910  2.589183\n",
      "413  0.077640  1.491803\n",
      "244  0.924547  3.646527\n",
      "178  0.953612  3.994362\n",
      "264  0.840436  4.040740\n",
      "350 150\n",
      "0.358835069503\n",
      "time elapsed :  0.0102829933167\n"
     ]
    }
   ],
   "source": [
    "# Use sklearn to evaluate how KNN and linear regression each perform on this dataset.\n",
    "\n",
    "start_time = time.time()\n",
    "train70, test30 = sk_split(df, test_size=0.3)\n",
    "print train70.head()\n",
    "print test30.head()\n",
    "print len(train70) , len(test30)\n",
    "\n",
    "trainx = train70['x'].values.reshape(len(train70['x'].values),1)\n",
    "trainy = train70['y'].values.reshape(len(train70['y'].values),1)\n",
    "testx = test30['x'].values.reshape(len(test30['x'].values),1)\n",
    "testy = test30['y'].values.reshape(len(test30['y'].values),1)\n",
    "\n",
    "neighbors = KNN(n_neighbors=3)\n",
    "neighbors.fit(trainx, trainy)\n",
    "predicted_y = neighbors.predict(testx)\n",
    "r= neighbors.score(testx, testy)\n",
    "\n",
    "regression = Lin_Reg()\n",
    "regression.fit(trainx, trainy)\n",
    "predicted_y = regression.predict(testx)\n",
    "r = regression.score(testx, testy)\n",
    "\n",
    "print r\n",
    "elapsed_time = time.time() - start_time\n",
    "print \"time elapsed : \" , elapsed_time"
   ]
  },
  {
   "cell_type": "markdown",
   "metadata": {},
   "source": [
    "The R^2 values are similar! There are some changes we could make to make the implementation faster and more efficient. By combining multipel steps, we could eliminate time for each step. "
   ]
  },
  {
   "cell_type": "markdown",
   "metadata": {},
   "source": [
    "## Problem 2: Handling Missing Data\n",
    "\n",
    "In this problem, we will be handling the problem of datasets with missing values. Clearly, we cannot simply remove entire rows or columns that contain missing values. In this problem, we explore two different ways to fill in missing values.\n",
    "\n",
    "The datasets required for this problem is in the ``dataset`` directory. Each file in the ``dataset`` directory contains a one-dimensional data set, with the first column containing the independent variable X, and the second column containing the dependent variable Y.\n",
    "\n",
    "In this problem, you **may not** use ``sklearn`` or build-in ``pandas`` functions to **directly fill in missing values**. Usage of these libraries/pakcages for related tasks is fine."
   ]
  },
  {
   "cell_type": "markdown",
   "metadata": {},
   "source": [
    "### Part (a): Model Based Data Imputation\n",
    "\n",
    "- Describe in detail how predictive models for data (like KNN and simple linear regression) can be used to fill in missing values in a data set.\n",
    "\n",
    "\n",
    "- Implement your scheme. That is, write code (preferably a function ``fill`` or two functions ``fill_knn``, ``fill_lin_reg``), which takes an ``n x 2`` dataframe or array with values missing in the 2nd column and fills in these values using KNN and linear regression. \n",
    "\n",
    "\n",
    "- You need to, also, write code to evaluate the quality of the values you've filled in."
   ]
  },
  {
   "cell_type": "markdown",
   "metadata": {},
   "source": [
    "** Solution ** \n",
    "Predictive models for data like KNN and simple linear regression can be used to fill in missing values in a data set becuase they use existing data to predict the most likely value of the missing data. We assume that there is a general form of how a response variable, Y, relates to one or more predictirs, X. Therefore, we can define the statistical model as any algorithm that attempts to estimate the function that relates the predictors to the response.  Specifically, for KNN, we give training data with predictor values and reponse values as well as testing data with predictor value and response values. For the i-th testing data point with a specific predictor, we kind k data points in the training set whose predictors are the most similar in Euclidean distance to x. "
   ]
  },
  {
   "cell_type": "code",
   "execution_count": 6,
   "metadata": {
    "collapsed": false
   },
   "outputs": [
    {
     "ename": "SyntaxError",
     "evalue": "invalid syntax (<ipython-input-6-c1d5f6608fd2>, line 8)",
     "output_type": "error",
     "traceback": [
      "\u001b[0;36m  File \u001b[0;32m\"<ipython-input-6-c1d5f6608fd2>\"\u001b[0;36m, line \u001b[0;32m8\u001b[0m\n\u001b[0;31m    test = train1.isnull((train1['y']==1))\u001b[0m\n\u001b[0m       ^\u001b[0m\n\u001b[0;31mSyntaxError\u001b[0m\u001b[0;31m:\u001b[0m invalid syntax\n"
     ]
    }
   ],
   "source": [
    "# train might be a pandas df so first thing to do is to turn it into a numpy array\n",
    "df = pd.read_csv('dataset_1_missing.txt') \n",
    "df = df.head(10)\n",
    "print df \n",
    "def fill_knn(train1, k) : \n",
    "    train = train[train['y'].isnull()==0]  \n",
    "    train = np.array(train)\n",
    "    train = train[train[:,1].notnull()]\n",
    "    train = train[train1['y'].notnull()]\n",
    "    test = train1.isnull((train1['y']==1))\n",
    "    #train_array = train.as_matrix(columns=None) #Convert the frame to its Numpy-array representation, columns: If None, return all columns, otherwise, returns specified columns.\n",
    "    #neighbors = KNN(n_neighbors=k)\n",
    "    #neighbors.fit(x_train, y_train)\n",
    "    print train\n",
    "    print '---888'\n",
    "    print test\n",
    "    \n",
    "fill_knn(df, 5)    \n",
    "    \n",
    "    \n",
    "    "
   ]
  },
  {
   "cell_type": "code",
   "execution_count": null,
   "metadata": {
    "collapsed": true
   },
   "outputs": [],
   "source": [
    "#--------  fill_knn\n",
    "#input: missing_df (dataframe), full_df (dataframe), missing_ind (indices of missing values), \n",
    "#       filled_ind (indices of non-missing values), k (integer)\n",
    "#output: predicted_df (dataframe), r (float)\n",
    "\n",
    "def fill_knn(missing_df, full_df, missing_ind, filled_ind, k):\n",
    "    #preparing data in array form\n",
    "    x_filled = missing_df.loc[filled_ind, 'x'].values.reshape((len(filled_ind), 1))\n",
    "    y_filled = missing_df.loc[filled_ind, 'y'].values\n",
    "    x_missing = missing_df.loc[missing_ind, 'x'].values.reshape((len(missing_ind), 1))\n",
    "    y_missing = full_df.loc[missing_ind, 'y'].values\n",
    "    \n",
    "    #fit knn model\n",
    "    neighbours = KNN(n_neighbors=k)\n",
    "    neighbours.fit(x_filled, y_filled)\n",
    "    \n",
    "    #predict y-values\n",
    "    predicted_y = neighbours.predict(x_missing)\n",
    "    \n",
    "    #score predictions\n",
    "    r = neighbours.score(x_missing, y_missing)\n",
    "    \n",
    "    #fill in missing y-values\n",
    "    predicted_df = missing_df.copy()\n",
    "    predicted_df.loc[missing_ind, 'y'] = pd.Series(predicted_y, index=missing_ind)\n",
    "    \n",
    "    return predicted_df, r\n",
    "\n",
    "#--------  fill_lin_reg\n",
    "#input: missing_df (dataframe), full_df (dataframe), missing_ind (indices of missing values), \n",
    "#       filled_ind (indices of non-missing values), k (integer)\n",
    "#output: predicted_df (dataframe), r (float)\n",
    "\n",
    "\n",
    "def fill_lin_reg(missing_df, full_df, missing_ind, filled_ind):\n",
    "    #preparing data in array form\n",
    "    x_filled = missing_df.loc[filled_ind, 'x'].values.reshape((len(filled_ind), 1))\n",
    "    y_filled = missing_df.loc[filled_ind, 'y'].values\n",
    "    x_missing = missing_df.loc[missing_ind, 'x'].values.reshape((len(missing_ind), 1))\n",
    "    y_missing = full_df.loc[missing_ind, 'y'].values\n",
    "    \n",
    "    #fit linear model\n",
    "    regression = Lin_Reg()\n",
    "    regression.fit(x_filled, y_filled)\n",
    "    \n",
    "    #predict y-values\n",
    "    predicted_y = regression.predict(x_missing)\n",
    "    \n",
    "    #score predictions\n",
    "    r = regression.score(x_missing, y_missing)\n",
    "    \n",
    "    #fill in missing y-values\n",
    "    predicted_df = missing_df.copy()\n",
    "    predicted_df.loc[missing_ind, 'y'] = pd.Series(predicted_y, index=missing_ind)\n",
    "    \n",
    "    return predicted_df, r\n",
    "    "
   ]
  },
  {
   "cell_type": "markdown",
   "metadata": {},
   "source": [
    "### Part (b): Which Model is Better?\n",
    "\n",
    "- For datasets ``dataset_1_missing.txt`` to ``dataset_6_missing.txt``, compare the result of filling in the missing values using KNN and linear regression, using both the R^2 coefficient as well as data visualization (the correct y-values are contained in ``dataset_1_full.txt`` to ``dataset_6_full.txt``).. \n",
    "\n",
    "\n",
    "- Use your analysis to form conjectures regarding the conditions under which KNN performs better than linear regression, under which linear regression performs better than KNN and under which both perform equally (well or poorly). Explain in detail exactly what might cause each model to fail or perform well. \n",
    "\n",
    "\n",
    "\n",
    "- Using ``dataset_1_missing.txt``, explain the impact of the choice of $k$ on the performance of KNN. \n",
    "\n",
    "\n",
    "Use numerical analysis and data visualization to support every part of your argument."
   ]
  },
  {
   "cell_type": "code",
   "execution_count": null,
   "metadata": {
    "collapsed": true
   },
   "outputs": [],
   "source": [
    "**Solution:**\n",
    "\n",
    "\n",
    "\n",
    "#number of neighbours\n",
    "k=10\n",
    "\n",
    "### CODING TIP: You have to generate data for six different datasets, is it a good idea\n",
    "### to copy and paste the same block of code over and over again for six times? \n",
    "### How can you get around this?\n",
    "### For HW2 it's still ok to copy and paste, for HW3, we will need you to see where functional\n",
    "### abstraction and iteration are called for and implement them.\n",
    "\n",
    "\n",
    "#plot predicted points\n",
    "fig, ((ax1, ax2), (ax3, ax4), (ax5, ax6)) = plt.subplots(3, 2, figsize=(15, 10))\n",
    "\n",
    "\n",
    "#Read dataset 1\n",
    "missing_df = pd.read_csv('./dataset/dataset_1_missing.txt')\n",
    "full_df = pd.read_csv('./dataset/dataset_1_full.txt')\n",
    "\n",
    "missing_ind = missing_df[missing_df['y'].isnull()].index\n",
    "filled_ind = missing_df[missing_df['y'].notnull()].index\n",
    "\n",
    "predicted_knn, r_knn = fill_knn(missing_df, \n",
    "                                full_df, \n",
    "                                missing_ind, \n",
    "                                filled_ind, \n",
    "                                k)\n",
    "\n",
    "predicted_lin, r_lin = fill_lin_reg(missing_df, \n",
    "                                    full_df, \n",
    "                                    missing_ind, \n",
    "                                    filled_ind)\n",
    "\n",
    "ax5, ax6 = plot_missing(ax5, \n",
    "                        ax6, \n",
    "                        predicted_knn, r_knn,\n",
    "                        predicted_lin, r_lin,\n",
    "                        k)\n",
    "\n",
    "\n",
    "#Read dataset 4\n",
    "missing_df = pd.read_csv('./dataset/dataset_4_missing.txt')\n",
    "full_df = pd.read_csv('./dataset/dataset_4_full.txt')\n",
    "\n",
    "missing_ind = missing_df[missing_df['y'].isnull()].index\n",
    "filled_ind = missing_df[missing_df['y'].notnull()].index\n",
    "\n",
    "predicted_knn, r_knn = fill_knn(missing_df, \n",
    "                                full_df, \n",
    "                                missing_ind, \n",
    "                                filled_ind, \n",
    "                                k)\n",
    "\n",
    "predicted_lin, r_lin = fill_lin_reg(missing_df, \n",
    "                                    full_df, \n",
    "                                    missing_ind, \n",
    "                                    filled_ind)\n",
    "\n",
    "ax1, ax2 = plot_missing(ax1, \n",
    "                        ax2, \n",
    "                        predicted_knn, r_knn,\n",
    "                        predicted_lin, r_lin,\n",
    "                        k)\n",
    "\n",
    "#Read dataset 6\n",
    "missing_df = pd.read_csv('./dataset/dataset_6_missing.txt')\n",
    "full_df = pd.read_csv('./dataset/dataset_6_full.txt')\n",
    "\n",
    "missing_ind = missing_df[missing_df['y'].isnull()].index\n",
    "filled_ind = missing_df[missing_df['y'].notnull()].index\n",
    "\n",
    "predicted_knn, r_knn = fill_knn(missing_df, full_df, missing_ind, filled_ind, k)\n",
    "\n",
    "predicted_lin, r_lin = fill_lin_reg(missing_df, full_df, missing_ind, filled_ind)\n",
    "\n",
    "ax3, ax4 = plot_missing(ax3, \n",
    "                        ax4, \n",
    "                        predicted_knn, r_knn,\n",
    "                        predicted_lin, r_lin,\n",
    "                        k)\n",
    "plt.show()"
   ]
  },
  {
   "cell_type": "markdown",
   "metadata": {},
   "source": [
    "---"
   ]
  },
  {
   "cell_type": "markdown",
   "metadata": {},
   "source": [
    "## Problem 3: Is the Best (Linear Model) Good Enough?\n",
    "\n",
    "In this problem, we will specifically look at conditions under which linear regression excels or fails.\n",
    "\n",
    "The datasets required for this problem is in the ``dataset`` directory. Each file in the ``dataset`` directory contains a one-dimensional data set, with the first column containing the independent variable X, and the second column containing the dependent variable Y."
   ]
  },
  {
   "cell_type": "markdown",
   "metadata": {},
   "source": [
    "### Part (a): Introduction to Residual Plots\n",
    "\n",
    "- Read ``dataset_1_full.txt``. Visualize the dataset and make some initial observations.\n",
    "\n",
    "\n",
    "- For this data set, what can you say about the following linear fits: \n",
    "\n",
    "    1. slope = 0.4, intercept = 0.2\n",
    "    2. slope = 0.4, intercept = 4\n",
    "    3. linear regression model\n",
    "\n",
    "\n",
    "- In each case, visualize the fit, compute the residuals, and make a residual plot of predicted values against residuals as well as a residual histogram. What do these plots reveal? \n",
    "\n",
    "\n",
    "- Calculate the R^2 coefficient for all three fits. What do the erors reveal? How do they compare to the residual plots?"
   ]
  },
  {
   "cell_type": "code",
   "execution_count": 109,
   "metadata": {
    "collapsed": false
   },
   "outputs": [
    {
     "name": "stdout",
     "output_type": "stream",
     "text": [
      "          x         y\n",
      "0  0.177418  1.401178\n",
      "1  0.573076  3.489890\n",
      "2  0.503775  1.684924\n",
      "3  0.594027  3.898209\n",
      "4  0.335754  2.878410\n",
      "                x           y\n",
      "count  500.000000  500.000000\n",
      "mean     0.508327    2.540550\n",
      "std      0.294466    1.313217\n",
      "min      0.000133   -1.308618\n",
      "25%      0.258050    1.654389\n",
      "50%      0.500938    2.589774\n",
      "75%      0.772561    3.506135\n",
      "max      0.999833    6.983976\n"
     ]
    },
    {
     "data": {
      "text/html": [
       "<div>\n",
       "<table border=\"1\" class=\"dataframe\">\n",
       "  <thead>\n",
       "    <tr style=\"text-align: right;\">\n",
       "      <th></th>\n",
       "      <th>x</th>\n",
       "      <th>y</th>\n",
       "    </tr>\n",
       "  </thead>\n",
       "  <tbody>\n",
       "    <tr>\n",
       "      <th>0</th>\n",
       "      <td>False</td>\n",
       "      <td>False</td>\n",
       "    </tr>\n",
       "    <tr>\n",
       "      <th>1</th>\n",
       "      <td>False</td>\n",
       "      <td>False</td>\n",
       "    </tr>\n",
       "    <tr>\n",
       "      <th>2</th>\n",
       "      <td>False</td>\n",
       "      <td>False</td>\n",
       "    </tr>\n",
       "    <tr>\n",
       "      <th>3</th>\n",
       "      <td>False</td>\n",
       "      <td>False</td>\n",
       "    </tr>\n",
       "    <tr>\n",
       "      <th>4</th>\n",
       "      <td>False</td>\n",
       "      <td>False</td>\n",
       "    </tr>\n",
       "    <tr>\n",
       "      <th>5</th>\n",
       "      <td>False</td>\n",
       "      <td>False</td>\n",
       "    </tr>\n",
       "    <tr>\n",
       "      <th>6</th>\n",
       "      <td>False</td>\n",
       "      <td>False</td>\n",
       "    </tr>\n",
       "    <tr>\n",
       "      <th>7</th>\n",
       "      <td>False</td>\n",
       "      <td>False</td>\n",
       "    </tr>\n",
       "    <tr>\n",
       "      <th>8</th>\n",
       "      <td>False</td>\n",
       "      <td>False</td>\n",
       "    </tr>\n",
       "    <tr>\n",
       "      <th>9</th>\n",
       "      <td>False</td>\n",
       "      <td>False</td>\n",
       "    </tr>\n",
       "    <tr>\n",
       "      <th>10</th>\n",
       "      <td>False</td>\n",
       "      <td>False</td>\n",
       "    </tr>\n",
       "    <tr>\n",
       "      <th>11</th>\n",
       "      <td>False</td>\n",
       "      <td>False</td>\n",
       "    </tr>\n",
       "    <tr>\n",
       "      <th>12</th>\n",
       "      <td>False</td>\n",
       "      <td>False</td>\n",
       "    </tr>\n",
       "    <tr>\n",
       "      <th>13</th>\n",
       "      <td>False</td>\n",
       "      <td>False</td>\n",
       "    </tr>\n",
       "    <tr>\n",
       "      <th>14</th>\n",
       "      <td>False</td>\n",
       "      <td>False</td>\n",
       "    </tr>\n",
       "    <tr>\n",
       "      <th>15</th>\n",
       "      <td>False</td>\n",
       "      <td>False</td>\n",
       "    </tr>\n",
       "    <tr>\n",
       "      <th>16</th>\n",
       "      <td>False</td>\n",
       "      <td>False</td>\n",
       "    </tr>\n",
       "    <tr>\n",
       "      <th>17</th>\n",
       "      <td>False</td>\n",
       "      <td>False</td>\n",
       "    </tr>\n",
       "    <tr>\n",
       "      <th>18</th>\n",
       "      <td>False</td>\n",
       "      <td>False</td>\n",
       "    </tr>\n",
       "    <tr>\n",
       "      <th>19</th>\n",
       "      <td>False</td>\n",
       "      <td>False</td>\n",
       "    </tr>\n",
       "    <tr>\n",
       "      <th>20</th>\n",
       "      <td>False</td>\n",
       "      <td>False</td>\n",
       "    </tr>\n",
       "    <tr>\n",
       "      <th>21</th>\n",
       "      <td>False</td>\n",
       "      <td>False</td>\n",
       "    </tr>\n",
       "    <tr>\n",
       "      <th>22</th>\n",
       "      <td>False</td>\n",
       "      <td>False</td>\n",
       "    </tr>\n",
       "    <tr>\n",
       "      <th>23</th>\n",
       "      <td>False</td>\n",
       "      <td>False</td>\n",
       "    </tr>\n",
       "    <tr>\n",
       "      <th>24</th>\n",
       "      <td>False</td>\n",
       "      <td>False</td>\n",
       "    </tr>\n",
       "    <tr>\n",
       "      <th>25</th>\n",
       "      <td>False</td>\n",
       "      <td>False</td>\n",
       "    </tr>\n",
       "    <tr>\n",
       "      <th>26</th>\n",
       "      <td>False</td>\n",
       "      <td>False</td>\n",
       "    </tr>\n",
       "    <tr>\n",
       "      <th>27</th>\n",
       "      <td>False</td>\n",
       "      <td>False</td>\n",
       "    </tr>\n",
       "    <tr>\n",
       "      <th>28</th>\n",
       "      <td>False</td>\n",
       "      <td>False</td>\n",
       "    </tr>\n",
       "    <tr>\n",
       "      <th>29</th>\n",
       "      <td>False</td>\n",
       "      <td>False</td>\n",
       "    </tr>\n",
       "    <tr>\n",
       "      <th>...</th>\n",
       "      <td>...</td>\n",
       "      <td>...</td>\n",
       "    </tr>\n",
       "    <tr>\n",
       "      <th>470</th>\n",
       "      <td>False</td>\n",
       "      <td>False</td>\n",
       "    </tr>\n",
       "    <tr>\n",
       "      <th>471</th>\n",
       "      <td>False</td>\n",
       "      <td>False</td>\n",
       "    </tr>\n",
       "    <tr>\n",
       "      <th>472</th>\n",
       "      <td>False</td>\n",
       "      <td>False</td>\n",
       "    </tr>\n",
       "    <tr>\n",
       "      <th>473</th>\n",
       "      <td>False</td>\n",
       "      <td>False</td>\n",
       "    </tr>\n",
       "    <tr>\n",
       "      <th>474</th>\n",
       "      <td>False</td>\n",
       "      <td>False</td>\n",
       "    </tr>\n",
       "    <tr>\n",
       "      <th>475</th>\n",
       "      <td>False</td>\n",
       "      <td>False</td>\n",
       "    </tr>\n",
       "    <tr>\n",
       "      <th>476</th>\n",
       "      <td>False</td>\n",
       "      <td>False</td>\n",
       "    </tr>\n",
       "    <tr>\n",
       "      <th>477</th>\n",
       "      <td>False</td>\n",
       "      <td>False</td>\n",
       "    </tr>\n",
       "    <tr>\n",
       "      <th>478</th>\n",
       "      <td>False</td>\n",
       "      <td>False</td>\n",
       "    </tr>\n",
       "    <tr>\n",
       "      <th>479</th>\n",
       "      <td>False</td>\n",
       "      <td>False</td>\n",
       "    </tr>\n",
       "    <tr>\n",
       "      <th>480</th>\n",
       "      <td>False</td>\n",
       "      <td>False</td>\n",
       "    </tr>\n",
       "    <tr>\n",
       "      <th>481</th>\n",
       "      <td>False</td>\n",
       "      <td>False</td>\n",
       "    </tr>\n",
       "    <tr>\n",
       "      <th>482</th>\n",
       "      <td>False</td>\n",
       "      <td>False</td>\n",
       "    </tr>\n",
       "    <tr>\n",
       "      <th>483</th>\n",
       "      <td>False</td>\n",
       "      <td>False</td>\n",
       "    </tr>\n",
       "    <tr>\n",
       "      <th>484</th>\n",
       "      <td>False</td>\n",
       "      <td>False</td>\n",
       "    </tr>\n",
       "    <tr>\n",
       "      <th>485</th>\n",
       "      <td>False</td>\n",
       "      <td>False</td>\n",
       "    </tr>\n",
       "    <tr>\n",
       "      <th>486</th>\n",
       "      <td>False</td>\n",
       "      <td>False</td>\n",
       "    </tr>\n",
       "    <tr>\n",
       "      <th>487</th>\n",
       "      <td>False</td>\n",
       "      <td>False</td>\n",
       "    </tr>\n",
       "    <tr>\n",
       "      <th>488</th>\n",
       "      <td>False</td>\n",
       "      <td>False</td>\n",
       "    </tr>\n",
       "    <tr>\n",
       "      <th>489</th>\n",
       "      <td>False</td>\n",
       "      <td>False</td>\n",
       "    </tr>\n",
       "    <tr>\n",
       "      <th>490</th>\n",
       "      <td>False</td>\n",
       "      <td>False</td>\n",
       "    </tr>\n",
       "    <tr>\n",
       "      <th>491</th>\n",
       "      <td>False</td>\n",
       "      <td>False</td>\n",
       "    </tr>\n",
       "    <tr>\n",
       "      <th>492</th>\n",
       "      <td>False</td>\n",
       "      <td>False</td>\n",
       "    </tr>\n",
       "    <tr>\n",
       "      <th>493</th>\n",
       "      <td>False</td>\n",
       "      <td>False</td>\n",
       "    </tr>\n",
       "    <tr>\n",
       "      <th>494</th>\n",
       "      <td>False</td>\n",
       "      <td>False</td>\n",
       "    </tr>\n",
       "    <tr>\n",
       "      <th>495</th>\n",
       "      <td>False</td>\n",
       "      <td>False</td>\n",
       "    </tr>\n",
       "    <tr>\n",
       "      <th>496</th>\n",
       "      <td>False</td>\n",
       "      <td>False</td>\n",
       "    </tr>\n",
       "    <tr>\n",
       "      <th>497</th>\n",
       "      <td>False</td>\n",
       "      <td>False</td>\n",
       "    </tr>\n",
       "    <tr>\n",
       "      <th>498</th>\n",
       "      <td>False</td>\n",
       "      <td>False</td>\n",
       "    </tr>\n",
       "    <tr>\n",
       "      <th>499</th>\n",
       "      <td>False</td>\n",
       "      <td>False</td>\n",
       "    </tr>\n",
       "  </tbody>\n",
       "</table>\n",
       "<p>500 rows × 2 columns</p>\n",
       "</div>"
      ],
      "text/plain": [
       "         x      y\n",
       "0    False  False\n",
       "1    False  False\n",
       "2    False  False\n",
       "3    False  False\n",
       "4    False  False\n",
       "5    False  False\n",
       "6    False  False\n",
       "7    False  False\n",
       "8    False  False\n",
       "9    False  False\n",
       "10   False  False\n",
       "11   False  False\n",
       "12   False  False\n",
       "13   False  False\n",
       "14   False  False\n",
       "15   False  False\n",
       "16   False  False\n",
       "17   False  False\n",
       "18   False  False\n",
       "19   False  False\n",
       "20   False  False\n",
       "21   False  False\n",
       "22   False  False\n",
       "23   False  False\n",
       "24   False  False\n",
       "25   False  False\n",
       "26   False  False\n",
       "27   False  False\n",
       "28   False  False\n",
       "29   False  False\n",
       "..     ...    ...\n",
       "470  False  False\n",
       "471  False  False\n",
       "472  False  False\n",
       "473  False  False\n",
       "474  False  False\n",
       "475  False  False\n",
       "476  False  False\n",
       "477  False  False\n",
       "478  False  False\n",
       "479  False  False\n",
       "480  False  False\n",
       "481  False  False\n",
       "482  False  False\n",
       "483  False  False\n",
       "484  False  False\n",
       "485  False  False\n",
       "486  False  False\n",
       "487  False  False\n",
       "488  False  False\n",
       "489  False  False\n",
       "490  False  False\n",
       "491  False  False\n",
       "492  False  False\n",
       "493  False  False\n",
       "494  False  False\n",
       "495  False  False\n",
       "496  False  False\n",
       "497  False  False\n",
       "498  False  False\n",
       "499  False  False\n",
       "\n",
       "[500 rows x 2 columns]"
      ]
     },
     "execution_count": 109,
     "metadata": {},
     "output_type": "execute_result"
    }
   ],
   "source": [
    "df = pd.read_csv('dataset_1_full.txt')\n",
    "print df.head()\n",
    "print df.describe()\n",
    "pd.isnull(df)\n",
    "    \n"
   ]
  },
  {
   "cell_type": "markdown",
   "metadata": {},
   "source": [
    "** Initial Observations ** \n",
    "The mean of the x values in this dataset is 0.5 wherease the mean for the y values is 2.5 The standard deviation for y values is around 1.3. In checking if there are any missing values, see see that there are no missing values. "
   ]
  },
  {
   "cell_type": "code",
   "execution_count": 119,
   "metadata": {
    "collapsed": false,
    "scrolled": true
   },
   "outputs": [
    {
     "data": {
      "text/plain": [
       "<matplotlib.legend.Legend at 0x11fd40cd0>"
      ]
     },
     "execution_count": 119,
     "metadata": {},
     "output_type": "execute_result"
    },
    {
     "data": {
      "image/png": "[encoded data removed]",
      "text/plain": [
       "<matplotlib.figure.Figure at 0x11f67fe90>"
      ]
     },
     "metadata": {},
     "output_type": "display_data"
    }
   ],
   "source": [
    "# slope = 0.4, intercept = 0.2\n",
    "\n",
    "exes = df['x']\n",
    "whys = df['y']\n",
    "beta0 = 0.2\n",
    "beta1 = 0.4\n",
    "\n",
    "plt.figure(figsize=(20,10))\n",
    "plt.plot(exes, whys, 'r+', label='Data')\n",
    "plt.plot(exes, beta0 + beta1*exes, label='True Y')\n",
    "plt.xlabel('X')\n",
    "plt.ylabel('Y')\n",
    "plt.legend(loc='best')"
   ]
  },
  {
   "cell_type": "code",
   "execution_count": 116,
   "metadata": {
    "collapsed": false
   },
   "outputs": [
    {
     "data": {
      "text/plain": [
       "<matplotlib.legend.Legend at 0x11ea7d190>"
      ]
     },
     "execution_count": 116,
     "metadata": {},
     "output_type": "execute_result"
    },
    {
     "data": {
      "image/png": "[encoded data removed]",
      "text/plain": [
       "<matplotlib.figure.Figure at 0x11e9d3cd0>"
      ]
     },
     "metadata": {},
     "output_type": "display_data"
    }
   ],
   "source": [
    "# slope = 0.4, intercept = 4\n",
    "beta0 = 4\n",
    "beta1 = 0.4\n",
    "\n",
    "plt.figure(figsize=(20,10))\n",
    "plt.plot(exes, whys, 'r+', label='Data')\n",
    "plt.plot(exes, beta0 + beta1*exes, label='True Y')\n",
    "plt.xlabel('X')\n",
    "plt.ylabel('Y')\n",
    "plt.legend(loc='best')"
   ]
  },
  {
   "cell_type": "code",
   "execution_count": 117,
   "metadata": {
    "collapsed": false
   },
   "outputs": [
    {
     "data": {
      "text/plain": [
       "<matplotlib.legend.Legend at 0x11f057490>"
      ]
     },
     "execution_count": 117,
     "metadata": {},
     "output_type": "execute_result"
    },
    {
     "data": {
      "image/png": "[encoded data removed]",
      "text/plain": [
       "<matplotlib.figure.Figure at 0x11ea16bd0>"
      ]
     },
     "metadata": {},
     "output_type": "display_data"
    }
   ],
   "source": [
    "# linear regression model\n",
    "\n",
    "beta0, beta1 = linear_reg_fit(df)\n",
    "plt.figure(figsize=(20,10))\n",
    "plt.plot(exes, whys, 'r+', label='Data')\n",
    "plt.plot(exes, beta0 + beta1*exes, label='True Y')\n",
    "plt.xlabel('X')\n",
    "plt.ylabel('Y')\n",
    "plt.legend(loc='best')"
   ]
  },
  {
   "cell_type": "markdown",
   "metadata": {},
   "source": [
    "These plots show that fitting the linear regression with the function I created above gives the best fit for the data. We can see this directly by looking at the plot above. "
   ]
  },
  {
   "cell_type": "markdown",
   "metadata": {},
   "source": [
    "### Part (b): What do Residual Plots Reveal?\n",
    "\n",
    "- Read datasets ``dataset_2_full.txt`` through ``dataset_6_full.txt``. In each case, visualize the fit of the linear regression model, compute the residuals, and make a residual plot of predicted values against residuals as well as a residual histogram. What do these plots reveal about the fit of the model? \n",
    "\n",
    "\n",
    "- Calculate the R^2 coefficient each fit. What do the erors reveal? How do they compare to the residual plots?\n",
    "\n",
    "\n",
    "- Based on your analysis, form conjectures regarding the precise relationship between the residual plots and the fit of the linear regression model. Conjecture on the precise conditions under which linear regression model is an appropriate model for a given dataset."
   ]
  },
  {
   "cell_type": "code",
   "execution_count": 130,
   "metadata": {
    "collapsed": false
   },
   "outputs": [
    {
     "name": "stdout",
     "output_type": "stream",
     "text": [
      "          x         y\n",
      "0  0.408443  0.292108\n",
      "1  0.640883  8.941639\n",
      "2  0.637759  8.081086\n",
      "3  0.581426  6.263709\n",
      "4  0.772800  7.879239\n",
      "                x           y\n",
      "count  500.000000  500.000000\n",
      "mean     0.513579    3.621770\n",
      "std      0.289688    4.438323\n",
      "min      0.000991   -4.006826\n",
      "25%      0.271632   -0.676758\n",
      "50%      0.518060    5.699432\n",
      "75%      0.756500    7.782619\n",
      "max      0.999516   11.128164\n"
     ]
    },
    {
     "data": {
      "text/plain": [
       "<matplotlib.legend.Legend at 0x1205d5650>"
      ]
     },
     "execution_count": 130,
     "metadata": {},
     "output_type": "execute_result"
    },
    {
     "data": {
      "image/png": "[encoded data removed]",
      "text/plain": [
       "<matplotlib.figure.Figure at 0x1202fc6d0>"
      ]
     },
     "metadata": {},
     "output_type": "display_data"
    }
   ],
   "source": [
    "df2 = pd.read_csv('dataset_2_full.txt')\n",
    "print df2.head()\n",
    "print df2.describe()\n",
    "\n",
    "exes = df2['x']\n",
    "whys = df2['y']\n",
    "beta0, beta1 = linear_reg_fit(df3)\n",
    "plt.figure(figsize=(20,10))\n",
    "plt.plot(exes, whys, 'r+', label='Data')\n",
    "plt.plot(exes, beta0 + beta1*exes, label='True Y')\n",
    "plt.xlabel('X')\n",
    "plt.ylabel('Y')\n",
    "plt.legend(loc='best')"
   ]
  },
  {
   "cell_type": "code",
   "execution_count": 131,
   "metadata": {
    "collapsed": false
   },
   "outputs": [
    {
     "name": "stdout",
     "output_type": "stream",
     "text": [
      "          x          y\n",
      "0  0.121384  -3.568853\n",
      "1  0.160069   5.373957\n",
      "2  0.004706  -4.441018\n",
      "3  0.571459  10.261394\n",
      "4  0.259522  -3.862360\n",
      "                x           y\n",
      "count  500.000000  500.000000\n",
      "mean     0.479318    5.051820\n",
      "std      0.282849    5.059104\n",
      "min      0.000326   -6.157849\n",
      "25%      0.224343   -0.384493\n",
      "50%      0.492688    7.212020\n",
      "75%      0.711343    9.069379\n",
      "max      0.997225   14.127066\n"
     ]
    },
    {
     "data": {
      "text/plain": [
       "<matplotlib.legend.Legend at 0x1204320d0>"
      ]
     },
     "execution_count": 131,
     "metadata": {},
     "output_type": "execute_result"
    },
    {
     "data": {
      "image/png": "[encoded data removed]",
      "text/plain": [
       "<matplotlib.figure.Figure at 0x12062c450>"
      ]
     },
     "metadata": {},
     "output_type": "display_data"
    }
   ],
   "source": [
    "df3 = pd.read_csv('dataset_3_full.txt')\n",
    "print df3.head()\n",
    "print df3.describe()\n",
    "\n",
    "exes = df3['x']\n",
    "whys = df3['y']\n",
    "beta0, beta1 = linear_reg_fit(df3)\n",
    "plt.figure(figsize=(20,10))\n",
    "plt.plot(exes, whys, 'r+', label='Data')\n",
    "plt.plot(exes, beta0 + beta1*exes, label='True Y')\n",
    "plt.xlabel('X')\n",
    "plt.ylabel('Y')\n",
    "plt.legend(loc='best')"
   ]
  },
  {
   "cell_type": "code",
   "execution_count": 132,
   "metadata": {
    "collapsed": false
   },
   "outputs": [
    {
     "name": "stdout",
     "output_type": "stream",
     "text": [
      "          x        y\n",
      "0  0.016353  0.91325\n",
      "1  0.727570  0.36886\n",
      "2  0.627700  0.14077\n",
      "3  0.832000  0.24985\n",
      "4  0.163920  1.22470\n",
      "                x           y\n",
      "count  100.000000  100.000000\n",
      "mean     0.513204    0.568006\n",
      "std      0.284072    0.351523\n",
      "min      0.012743   -0.008473\n",
      "25%      0.243108    0.265535\n",
      "50%      0.544070    0.499515\n",
      "75%      0.725290    0.883310\n",
      "max      0.982700    1.256900\n"
     ]
    },
    {
     "data": {
      "text/plain": [
       "<matplotlib.legend.Legend at 0x1204a0550>"
      ]
     },
     "execution_count": 132,
     "metadata": {},
     "output_type": "execute_result"
    },
    {
     "data": {
      "image/png": "[encoded data removed]",
      "text/plain": [
       "<matplotlib.figure.Figure at 0x11fd64a50>"
      ]
     },
     "metadata": {},
     "output_type": "display_data"
    }
   ],
   "source": [
    "df4 = pd.read_csv('dataset_4_full.txt')\n",
    "print df4.head()\n",
    "print df4.describe()\n",
    "\n",
    "exes = df4['x']\n",
    "whys = df4['y']\n",
    "beta0, beta1 = linear_reg_fit(df4)\n",
    "plt.figure(figsize=(20,10))\n",
    "plt.plot(exes, whys, 'r+', label='Data')\n",
    "plt.plot(exes, beta0 + beta1*exes, label='True Y')\n",
    "plt.xlabel('X')\n",
    "plt.ylabel('Y')\n",
    "plt.legend(loc='best')"
   ]
  },
  {
   "cell_type": "code",
   "execution_count": 133,
   "metadata": {
    "collapsed": false
   },
   "outputs": [
    {
     "name": "stdout",
     "output_type": "stream",
     "text": [
      "         x        y\n",
      "0  0.21376  0.87153\n",
      "1  0.29810  0.66928\n",
      "2  0.76834  1.17930\n",
      "3  0.50115  1.33250\n",
      "4  0.90946  2.39960\n",
      "                x           y\n",
      "count  100.000000  100.000000\n",
      "mean     0.515216    1.418654\n",
      "std      0.312062    0.519530\n",
      "min      0.002122    0.230000\n",
      "25%      0.187315    1.016450\n",
      "50%      0.536695    1.375150\n",
      "75%      0.812442    1.855750\n",
      "max      0.997040    2.482600\n"
     ]
    },
    {
     "data": {
      "text/plain": [
       "<matplotlib.legend.Legend at 0x12162eb90>"
      ]
     },
     "execution_count": 133,
     "metadata": {},
     "output_type": "execute_result"
    },
    {
     "data": {
      "image/png": "[encoded data removed]",
      "text/plain": [
       "<matplotlib.figure.Figure at 0x12036a4d0>"
      ]
     },
     "metadata": {},
     "output_type": "display_data"
    }
   ],
   "source": [
    "df5 = pd.read_csv('dataset_5_full.txt')\n",
    "print df5.head()\n",
    "print df5.describe()\n",
    "\n",
    "exes = df5['x']\n",
    "whys = df5['y']\n",
    "beta0, beta1 = linear_reg_fit(df5)\n",
    "plt.figure(figsize=(20,10))\n",
    "plt.plot(exes, whys, 'r+', label='Data')\n",
    "plt.plot(exes, beta0 + beta1*exes, label='True Y')\n",
    "plt.xlabel('X')\n",
    "plt.ylabel('Y')\n",
    "plt.legend(loc='best')"
   ]
  },
  {
   "cell_type": "code",
   "execution_count": 134,
   "metadata": {
    "collapsed": false
   },
   "outputs": [
    {
     "name": "stdout",
     "output_type": "stream",
     "text": [
      "          x         y\n",
      "0  0.665138  2.222823\n",
      "1  0.008478  1.084748\n",
      "2  0.832568  4.798851\n",
      "3  0.168644  2.147488\n",
      "4  0.652890  5.440666\n",
      "                x           y\n",
      "count  500.000000  500.000000\n",
      "mean     0.505893    3.475406\n",
      "std      0.278413    2.204698\n",
      "min      0.002750   -3.256152\n",
      "25%      0.285743    1.708265\n",
      "50%      0.509941    3.082882\n",
      "75%      0.746644    4.804284\n",
      "max      0.998352   13.237166\n"
     ]
    },
    {
     "data": {
      "text/plain": [
       "<matplotlib.legend.Legend at 0x122f972d0>"
      ]
     },
     "execution_count": 134,
     "metadata": {},
     "output_type": "execute_result"
    },
    {
     "data": {
      "image/png": "[encoded data removed]",
      "text/plain": [
       "<matplotlib.figure.Figure at 0x1203ef3d0>"
      ]
     },
     "metadata": {},
     "output_type": "display_data"
    }
   ],
   "source": [
    "df6 = pd.read_csv('dataset_6_full.txt')\n",
    "print df6.head()\n",
    "print df6.describe()\n",
    "\n",
    "exes = df6['x']\n",
    "whys = df6['y']\n",
    "beta0, beta1 = linear_reg_fit(df6)\n",
    "plt.figure(figsize=(20,10))\n",
    "plt.plot(exes, whys, 'r+', label='Data')\n",
    "plt.plot(exes, beta0 + beta1*exes, label='True Y')\n",
    "plt.xlabel('X')\n",
    "plt.ylabel('Y')\n",
    "plt.legend(loc='best')"
   ]
  },
  {
   "cell_type": "markdown",
   "metadata": {},
   "source": [
    "## Challenge Problem: Combining Random Variables\n",
    "\n",
    "This problem, we explore the distirbution of random variables that result from combining other random variables."
   ]
  },
  {
   "cell_type": "markdown",
   "metadata": {},
   "source": [
    "### Part (a): Adding Two Uniformly Distributed Variables\n",
    "\n",
    "Consider the independent random variables $X\\sim U(0, 1)$ and $Y\\sim U(0, 1)$. Let $Z$ be the random variable $Z = X + Y$. \n",
    "\n",
    "What is the distribution of $Z$ (give the pdf for Z)? You should fully explain and support your conlusion. \n",
    "\n",
    "**Hint:** your solution can be a combination of experimentation, empirical evidence and/or algebra"
   ]
  },
  {
   "cell_type": "markdown",
   "metadata": {},
   "source": [
    "** Solution : ** \n",
    "A continuous random variable X has a uniform distribution U(a,b) if its probability density function is f(x) = 1/(b-a). Therefore, as should be expected, the aread under the f(x) curve and between the endpoints is 1. This makes f(x) a valid probability density function. Since X and Y are independent random variables, to get the distribution for Z, we multiply the distribution functions for X and Y. This follows the rule of independence in calculating probabilities. We get 1, which also proves that this is a valid pdf for Z. \n",
    "\n",
    "f(x) = [1/(1-0)] * [1/(1-0)] = 1 \n"
   ]
  },
  {
   "cell_type": "markdown",
   "metadata": {},
   "source": [
    "### Part (b): Adding Multiple Uniformly Distributed Variables\n",
    "\n",
    "Consider three independent random variables $X_1, X_2, X_3 \\sim U(0, 1)$. Let $Z$ be the random variable $Z = X_1 + X_2 + X_3$. \n",
    "\n",
    "What is the distribution of $Z$? What if you add 10 or 12 independent (standard) uniformly distributed variables? Conjecture on the distribution of \n",
    "$$\n",
    "Z = \\lim_{n\\to \\infty} \\sum_{i=1}^n X_i\n",
    "$$\n",
    "where $\\left\\{X_i \\right\\}$ are independent (standard) uniformly distributed variables.\n",
    "\n",
    "**Hint:** your solution can be a combination of experimentation, empirical evidence and/or algebra"
   ]
  },
  {
   "cell_type": "markdown",
   "metadata": {},
   "source": [
    "** Solution : ** \n",
    "This question is similar to the one above. Once again, since X1, X2, and X3 are independent random variables, their probabilities should be multiplied to one another to determine the distribution of Z, the sum of the 3. This makes sense becuase each random variable is independent of the other 2 and therefore, Z is made up of 3 independent variables that will not affect one another. The distribution of Z here is once again equal to 1. If you add 10 or even 12 independent uniformly distributed variables, the answer will still be the same. As long as the variables are independent of one another, we can multiply their distributions to find the overall distribution of Z. "
   ]
  },
  {
   "cell_type": "markdown",
   "metadata": {},
   "source": [
    "### Part (c): Combining Normally Distributed Variables\n",
    "\n",
    "Consider the independent random variables $X\\sim \\mathcal{N}(0, 1)$ and $Y\\sim \\mathcal{N}(0, 1)$. Let $Z$ be the random variable $Z = X + Y$. \n",
    "\n",
    "What is the distribution of $Z$ (give the pdf for Z)? You should fully explain and support your conlusion. \n",
    "\n",
    "**Hint:** use properties of expected value and some experimentation."
   ]
  },
  {
   "cell_type": "markdown",
   "metadata": {},
   "source": [
    "**Solution: **\n",
    "The same idea of independence is true in this question. The probabilities will be multiplied together for X and Y to get the distribution of Z. In this case, however, the probability density function for a normally distributed random variable is equal to : f(x) = [1/sqrt(2pi*sigma)]*exp(-(x-u)^2/2sigma^2). The expected value for a normal random variable with a mean of 0 and variance of 1 is 0. Therefore, the mean or expected value for Z will also be 0. This makes sense because the random variables center around zero and are still independent of one another. Also, following with the rules for independence, for any 2 independent random variables, the expected value will still be 0. "
   ]
  },
  {
   "cell_type": "markdown",
   "metadata": {},
   "source": [
    "### Part (d): Product of Normally Distributed Variables\n",
    "\n",
    "Is the product of two normally distributed variables a normally distributed variable? You should fully explain and support your conlusion. "
   ]
  },
  {
   "cell_type": "markdown",
   "metadata": {},
   "source": [
    "**Solution:**\n",
    "No, the product of 2 normally distributed variables is not a normally distributed variable. This is due to the fact that the normally distributed variables may be centered around different values and therefore, the resulting product may not be normally distributed but may display a bimodal trend. The pdf of a normally distributed random variable is quite complicated and the product of 2 will be more complicated. "
   ]
  },
  {
   "cell_type": "markdown",
   "metadata": {},
   "source": [
    "---"
   ]
  }
 ],
 "metadata": {
  "anaconda-cloud": {},
  "kernelspec": {
   "display_name": "Python [Root]",
   "language": "python",
   "name": "Python [Root]"
  },
  "language_info": {
   "codemirror_mode": {
    "name": "ipython",
    "version": 2
   },
   "file_extension": ".py",
   "mimetype": "text/x-python",
   "name": "python",
   "nbconvert_exporter": "python",
   "pygments_lexer": "ipython2",
   "version": "2.7.12"
  }
 },
 "nbformat": 4,
 "nbformat_minor": 0
}
