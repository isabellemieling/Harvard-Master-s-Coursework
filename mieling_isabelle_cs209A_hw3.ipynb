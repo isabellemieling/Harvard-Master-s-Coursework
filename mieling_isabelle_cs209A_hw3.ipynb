{
 "cells": [
  {
   "cell_type": "markdown",
   "metadata": {},
   "source": [
    "# CS 109A/AC 209A/STAT 121A Data Science: Homework 3\n",
    "**Harvard University**<br>\n",
    "**Fall 2016**<br>\n",
    "**Instructors: W. Pan, P. Protopapas, K. Rader**<br>\n",
    "**Due Date: ** Wednesday, September 28th, 2016 at 11:59pm"
   ]
  },
  {
   "cell_type": "markdown",
   "metadata": {},
   "source": [
    "Download the `IPython` notebook as well as the data file from Vocareum and complete locally.\n",
    "\n",
    "To submit your assignment, in Vocareum, upload (using the 'Upload' button on your Jupyter Dashboard) your solution to Vocareum as a single notebook with following file name format:\n",
    "\n",
    "`last_first_CourseNumber_HW3.ipynb`\n",
    "\n",
    "where `CourseNumber` is the course in which you're enrolled (CS 109a, Stats 121a, AC 209a). Submit your assignment in Vocareum using the 'Submit' button.\n",
    "\n",
    "**Avoid editing your file in Vocareum after uploading. If you need to make a change in a solution. Delete your old solution file from Vocareum and upload a new solution. Click submit only ONCE after verifying that you have uploaded the correct file. The assignment will CLOSE after you click the submit button.**\n",
    "\n",
    "Problems on homework assignments are equally weighted. The Challenge Question is required for AC 209A students and optional for all others. Student who complete the Challenge Problem as optional extra credit will receive +0.5% towards your final grade for each correct solution. "
   ]
  },
  {
   "cell_type": "markdown",
   "metadata": {},
   "source": [
    "Import libraries"
   ]
  },
  {
   "cell_type": "code",
   "execution_count": 169,
   "metadata": {
    "collapsed": false
   },
   "outputs": [
    {
     "name": "stdout",
     "output_type": "stream",
     "text": [
      "done\n"
     ]
    }
   ],
   "source": [
    "import numpy as np\n",
    "import pandas as pd\n",
    "from sklearn.linear_model import LinearRegression as Lin_Reg\n",
    "import matplotlib\n",
    "import matplotlib.pyplot as plt\n",
    "import matplotlib.cm as cmx\n",
    "import matplotlib.colors as colors\n",
    "from __future__ import division\n",
    "from math import log10\n",
    "import numpy.polynomial.polynomial as poly\n",
    "import statsmodels\n",
    "import statsmodels.api as sm\n",
    "import scipy as sp\n",
    "%matplotlib inline\n",
    "print 'done'"
   ]
  },
  {
   "cell_type": "markdown",
   "metadata": {},
   "source": [
    "## Problem 0: Basic Information\n",
    "\n",
    "Fill in your basic information. \n",
    "\n",
    "### Part (a): Your name"
   ]
  },
  {
   "cell_type": "markdown",
   "metadata": {},
   "source": [
    "Mieling, Isabelle"
   ]
  },
  {
   "cell_type": "markdown",
   "metadata": {},
   "source": [
    "### Part (b): Course Number"
   ]
  },
  {
   "cell_type": "markdown",
   "metadata": {},
   "source": [
    "AC 209a"
   ]
  },
  {
   "cell_type": "markdown",
   "metadata": {},
   "source": [
    "### Part (c): Who did you work with?"
   ]
  },
  {
   "cell_type": "markdown",
   "metadata": {},
   "source": [
    "Nancy Zhang"
   ]
  },
  {
   "cell_type": "markdown",
   "metadata": {},
   "source": [
    "**All data sets can be found in the ``datasets`` folder and are in comma separated value (CSV) format**"
   ]
  },
  {
   "cell_type": "markdown",
   "metadata": {},
   "source": [
    "## Problem 1: Multiple linear regression\n",
    "\n",
    "### Part (a): Implement multiple linear regression from scratch\n",
    "\n",
    "You are provided a data set containing attributes related to automobiles as well as their corresponding prices. The task is to build a linear regression model from scratch that can estimate the price of an automobile (response variable) using its attributes (predictor variables).\n",
    "\n",
    "The file ``dataset_1_train.txt`` contains the training set that you can use to fit a regression model, and the file ``dataset_1_test.txt`` contains the test set that you can use to evaluate the model. In each file, the first two columns contain the predictors of the automobile, namely ``'horsepower'`` and ``'highway MPG'``, and the last column contains the automobile prices.\n",
    "\n",
    "- Implement the following two functions from scratch. \n",
    "\n",
    "    - ``multiple_linear_regression_fit``:\n",
    "\n",
    "        - takes as input: the training set, ``x_train``, ``y_train``\n",
    "\n",
    "        - fits a multiple linear regression model\n",
    "\n",
    "        - returns the model parameters (coefficients on the predictors, as an array, and the intercept, as a float).\n",
    "\n",
    "    - ``multiple_linear_regression_score``:\n",
    "\n",
    "        - takes model parameters (coefficients and intercept) and the test set, ``x_test`` ``y_test``, as inputs\n",
    "\n",
    "        - returns the R^2 score for the model on the test set, along with the predicted y-values.\n",
    "        \n",
    "- Use your functions to predict automobile prices and evaluate your predictions.\n",
    "\n",
    "**Note:** You **may not** use pre-built models or model evaluators for these tasks."
   ]
  },
  {
   "cell_type": "code",
   "execution_count": 170,
   "metadata": {
    "collapsed": false
   },
   "outputs": [],
   "source": [
    "# assume we are working with numpy arrays \n",
    "def multiple_linear_regression_fit(x_train, y_train):\n",
    "    # Append a column of ones to x\n",
    "    n = x_train.shape[0]\n",
    "    one_col = np.ones((n,1))\n",
    "    \n",
    "    x_train = np.concatenate((x_train, one_col), axis=1)\n",
    "    \n",
    "    # Compute transpose of x\n",
    "    x_transpose = np.transpose(x_train)\n",
    "    x_trans_x = np.dot(x_transpose, x_train)\n",
    "    l = 0\n",
    "    try:\n",
    "        x_trans_x_inv = np.linalg.inv(x_trans_x)\n",
    "        l = 1\n",
    "    except:\n",
    "        pass\n",
    "    if l == 0:\n",
    "        x_trans_x_inv = np.linalg.pinv(x_trans_x)\n",
    "    x_tran_y = np.dot(x_transpose, y_train)\n",
    "    \n",
    "    # Compute coefficients: w = inv(x^T * x) x^T * y\n",
    "    w = np.dot(x_trans_x_inv, x_tran_y)\n",
    "    \n",
    "    # obtain intercept : 'c' [last index]\n",
    "    c = w[-1]\n",
    "    return w[:-1], c"
   ]
  },
  {
   "cell_type": "code",
   "execution_count": 171,
   "metadata": {
    "collapsed": true
   },
   "outputs": [],
   "source": [
    "def multiple_linear_regression_score(w, c, x_test, y_test):\n",
    "    # Compute predicted y values\n",
    "    y_predict = np.dot(x_test, w) + c\n",
    "    \n",
    "    # Evaluate square error RSS\n",
    "    sq_error = np.sum(np.square(y_predict - y_test))\n",
    "    \n",
    "    # Evaluate squared error for predicting mean  TSS\n",
    "    y_mean = np.mean(y_test)\n",
    "    y_variance = np.sum(np.square(y_mean - y_test))\n",
    "    \n",
    "    # Evaluate R^2 score values\n",
    "    r_squared = 1 - sq_error / y_variance\n",
    "    \n",
    "    return r_squared, y_predict"
   ]
  },
  {
   "cell_type": "code",
   "execution_count": 172,
   "metadata": {
    "collapsed": false
   },
   "outputs": [
    {
     "name": "stdout",
     "output_type": "stream",
     "text": [
      "('R^2 score on test set:', 0.17794462732717164)\n"
     ]
    }
   ],
   "source": [
    "# Testing\n",
    "# Load train and test data sets\n",
    "data_train = np.loadtxt('dataset_1_train.txt', delimiter=',', skiprows=1)\n",
    "data_test = np.loadtxt('dataset_1_test.txt', delimiter=',', skiprows=1)\n",
    "\n",
    "# Split predictors from response\n",
    "# Training\n",
    "y_train = data_train[:, -1]\n",
    "x_train = data_train[:, :-1]\n",
    "\n",
    "# Testing\n",
    "y_test = data_test[:, -1]\n",
    "x_test = data_test[:, :-1]\n",
    "\n",
    "# Fit multiple linear regression model\n",
    "w, c = multiple_linear_regression_fit(x_train, y_train)\n",
    "\n",
    "# Evaluate model\n",
    "r_squared, _ = multiple_linear_regression_score(w, c, x_test, y_test)\n",
    "\n",
    "print('R^2 score on test set:', r_squared)"
   ]
  },
  {
   "cell_type": "markdown",
   "metadata": {},
   "source": [
    "**Answer** After creating the functions multiple_linear_regression_fit and multiple_linear_regression_score to fit and check the validity of our linear model, I used the functions to predict automobile prices and then evaluated the R^2 values for the model. The model received an R^2 score of 0.178. This score is far from the ideal value of 1 however, this is most likely to the fact that there are other confounders that are not being taken into account in this model. "
   ]
  },
  {
   "cell_type": "markdown",
   "metadata": {},
   "source": [
    "### Part (b): Confidence interval on regression parameters\n",
    "Using your linear regression implementation from Part (a), model the data in ``dataset_2.txt``, which contains five predictor variables in the first five columns, and the response variable in the last column.\n",
    "\n",
    "Compute confidence intervals for the model parameters you obtain:\n",
    "\n",
    "- Create 200 random subsamples of the data set of size 100, and use your function to fit a multiple linear regression model to each subsample. \n",
    "\n",
    "- For each coefficient on the predictor variables: plot a histogram of the values obtained across the subsamples, and calculate the confidence interval for the coefficients at a confidence level of 95%. \n",
    "\n",
    "- Highlight the mean coeffcient values and the end points of the confidence intervals using vertical lines on the histogram plot. How large is the spread of the coefficient values in the histograms, and how tight are the confidence intervals?\n",
    "\n",
    "- Use the formula for computing confidence intervals provided in class (or use ``statmodels``) to compute the the confidence intervals. Compare confidence intervals you find through simulation to the ones given by the formula (or ``statmodels``), are your results what you would expect?\n",
    "\n",
    "**Note:** You **may not** use pre-built models or model evaluators for these tasks."
   ]
  },
  {
   "cell_type": "code",
   "execution_count": 173,
   "metadata": {
    "collapsed": false
   },
   "outputs": [
    {
     "name": "stdout",
     "output_type": "stream",
     "text": [
      "Linear regression with all predictors\n"
     ]
    },
    {
     "data": {
      "image/png": "[encoded data removed]",
      "text/plain": [
       "<matplotlib.figure.Figure at 0x11f0f5e90>"
      ]
     },
     "metadata": {},
     "output_type": "display_data"
    }
   ],
   "source": [
    "# Load train set\n",
    "data = np.loadtxt(\"dataset_2.txt\", delimiter=',', skiprows = 1)\n",
    "\n",
    "# Size of data set, and subsample (10%)\n",
    "x = data[:, :-1]\n",
    "y = data[:, -1]\n",
    "\n",
    "# Record size of the data set\n",
    "n = x.shape[0]\n",
    "d = x.shape[1]\n",
    "subsample_size = 100\n",
    "\n",
    "# No. of subsamples\n",
    "num_samples = 200\n",
    "    \n",
    "### Linear regression with all 5 predictors\n",
    "\n",
    "# Create a n x d array to store coefficients for 100 subsamples\n",
    "coefs_multiple = np.zeros((num_samples, d))\n",
    "\n",
    "print 'Linear regression with all predictors'\n",
    "\n",
    "# Repeat for 200 subsamples\n",
    "for i in range(num_samples):\n",
    "    # Generate a random subsample of 50 data points\n",
    "    perm = np.random.permutation(n) # Generate a list of indices 0 to n and permute it\n",
    "    x_subsample = x[perm[:subsample_size], :] # Get x-vals for the first 50 indices in permuted list\n",
    "    \n",
    "    y_subsample = y[perm[:subsample_size]] # Get y-vals for the first 50 indices in permuted list\n",
    "\n",
    "    # Fit linear regression model on subsample\n",
    "    w, c = multiple_linear_regression_fit(x_subsample, y_subsample)\n",
    "    # Store the coefficient for the model we obtain\n",
    "    coefs_multiple[i, :] = w\n",
    "\n",
    "# Plot histogram of coefficients, and report their confidence intervals \n",
    "fig, axes = plt.subplots(1, d, figsize=(20, 3))\n",
    "\n",
    "# Repeat for each coefficient\n",
    "for j in range(d):\n",
    "    # Compute mean for the j-th coefficent from subsamples\n",
    "    coef_j_mean = np.mean(coefs_multiple[:, j])\n",
    "    \n",
    "    # Compute confidence interval at 95% confidence level (use formula!)\n",
    "    conf_int_left = np.percentile(coefs_multiple[:, j], 2.5)\n",
    "    conf_int_right = np.percentile(coefs_multiple[:, j], 97.5)\n",
    "       \n",
    "    # Plot histogram of coefficient values\n",
    "    axes[j].hist(coefs_multiple[:, j], alpha=0.5)\n",
    "\n",
    "    # Plot vertical lines at mean and left, right extremes of confidence interval\n",
    "    axes[j].axvline(x = coef_j_mean, linewidth=3)\n",
    "    axes[j].axvline(x = conf_int_left, linewidth=1, c='r')\n",
    "    axes[j].axvline(x = conf_int_right, linewidth=1, c='r')\n",
    "    \n",
    "    # Set plot labels\n",
    "    axes[j].set_title('[' + str(round(conf_int_left, 4)) \n",
    "                      + ', ' \n",
    "                      + str(round(conf_int_right, 4)) + ']')\n",
    "    axes[j].set_xlabel('Predictor ' + str(j + 1))\n",
    "    axes[j].set_ylabel('Frequency')\n",
    "\n",
    "plt.show()\n"
   ]
  },
  {
   "cell_type": "markdown",
   "metadata": {},
   "source": [
    "**Answer** 200 random samples of size 100 were made from the data in the dataset. Multiple linear regression models were fit to each subsample and for each predictor variable, a histogram was plotted giving the values obtained across the subsamples for that variable. The confidence intervals for the coefficients are given and shown by the red vertical lines and in the brackets above the histograms. These represent the confidence intervals at a confidene level of 95%. \n",
    "\n",
    "The coefficeint values spread from 0.3 to 0.9, -0.03 to 1.1, -0.29 to -82, 0.53 to 1.35, and -0.28 to 0.89. These confidence intervals are quite small. "
   ]
  },
  {
   "cell_type": "code",
   "execution_count": 174,
   "metadata": {
    "collapsed": false
   },
   "outputs": [
    {
     "name": "stdout",
     "output_type": "stream",
     "text": [
      "-0.2398918441\n",
      "1.24563075838\n"
     ]
    }
   ],
   "source": [
    "print np.percentile(coefs_multiple,2.5)\n",
    "print np.percentile(coefs_multiple,97.5)"
   ]
  },
  {
   "cell_type": "markdown",
   "metadata": {},
   "source": [
    "**Answer** The 95% confidence interval for the coefficients is [-0.21 , 1.25], as calculated above. This is similar to some of the confidence intervals found through the simulations. These are the results we would expect to find. "
   ]
  },
  {
   "cell_type": "markdown",
   "metadata": {},
   "source": [
    "## Problem 2: Polynomial regression\n",
    "In this problem, we revisit a dataset from Homework 1 and fit polynomial regression models to it. The dataset is provided in the file ``dataset_3.txt``, which contains a single predictor variable ``x`` in the first column and the response variable ``y`` in the second column. \n",
    "\n",
    "### Part(a): Implement polynomial regression from scratch\n",
    "\n",
    "- Implement the following three functions from scratch:\n",
    "\n",
    "    - ``polynomial_regression_fit``:\n",
    "        - takes as input: training set, ``x_train``, ``y_train`` and the degree of the polynomial\n",
    "        - fits a polynomial regression model \n",
    "        - returns the model parameters (array of coefficients and the intercept)\n",
    "\n",
    "    - ``polynomial_regression_predict``: \n",
    "        - takes as input: the model parameters (array of coefficients and the intercept), the degree of the polynomial and the test set predictors ``x_test``\n",
    "        - returns the response values predicted by the model on the test set. \n",
    "\n",
    "    - ``polynomial_regression_score``: \n",
    "        - takes an array of predicted response values and the array of true response values ``y_test``\n",
    "        - returns R^2 score for the model on the test set, as well as the sum of squared errors\n",
    "\n",
    "- Fit polynomial regression models of degrees 3, 5, 10 and 25 to the data set. Visualize the original data along with the fitted models for the various degrees in the same plot. \n",
    "\n",
    "For this problem, you may either use the multiple linear regression functions implemented in the Problem 1 or use the in-built functions in ``sklearn``."
   ]
  },
  {
   "cell_type": "code",
   "execution_count": 175,
   "metadata": {
    "collapsed": false
   },
   "outputs": [],
   "source": [
    "data = np.loadtxt(\"dataset_3.txt\", delimiter=',', skiprows = 1)\n",
    "#data = pd.read_csv('dataset_3.txt')\n",
    "x_train = data[:, 0]  # [rows, column]\n",
    "y_train = data[:, 1]\n",
    "\n",
    "def polynomial_regression_fit(x_train, y_train, k):\n",
    "    n = np.size(y_train) # number of rows\n",
    "    x_poly = np.zeros([n,k]) # numpy array with 0s, shape is n x k (degree)\n",
    "    \n",
    "    # now we calculate all the values for x, x^2, ... etc up to x^k\n",
    "    for d in range(1, k+1): # go 1 past k bc want  x^k & range goes up to but not including\n",
    "        x_poly[:, d-1] = np.power(x_train, d)  # filling column by column\n",
    "        # vector x_train to the power d\n",
    "        \n",
    "    coef, c = multiple_linear_regression_fit(x_poly, y_train)\n",
    "    return coef, c\n",
    "\n",
    "def polynomial_regression_predict(coef, c, k, x_test):\n",
    "    n = np.size(x_test)\n",
    "    x_poly = np.zeros([n,k])\n",
    "    \n",
    "    for d in range(1, k+1):\n",
    "        x_poly[:, d-1] = np.power(x_test, d)\n",
    "        \n",
    "    y_predict = np.dot(x_poly, coef) + c \n",
    "    return y_predict\n",
    "\n",
    "def polynomial_regression_score(y_predict, y_test): \n",
    "    sq_error = np.sum(np.square(y_predict - y_test))\n",
    "    y_mean = np.mean(y_test)\n",
    "    y_variance = np.sum(np.square(y_mean - y_test))\n",
    "    \n",
    "    # Evaluate R^2 score values\n",
    "    r_squared = 1 - sq_error / y_variance\n",
    "    return r_squared, y_predict"
   ]
  },
  {
   "cell_type": "code",
   "execution_count": 176,
   "metadata": {
    "collapsed": false
   },
   "outputs": [
    {
     "data": {
      "text/plain": [
       "<matplotlib.legend.Legend at 0x11dab4dd0>"
      ]
     },
     "execution_count": 176,
     "metadata": {},
     "output_type": "execute_result"
    },
    {
     "data": {
      "image/png": "[encoded data removed]",
      "text/plain": [
       "<matplotlib.figure.Figure at 0x1213c0550>"
      ]
     },
     "metadata": {},
     "output_type": "display_data"
    }
   ],
   "source": [
    "# 3, 5, 10 25\n",
    "coef3, c3 = polynomial_regression_fit(x_train, y_train, 3)\n",
    "coef5, c5 = polynomial_regression_fit(x_train, y_train, 5)\n",
    "coef10, c10 = polynomial_regression_fit(x_train, y_train, 10)\n",
    "coef25, c25 = polynomial_regression_fit(x_train, y_train, 25)\n",
    "\n",
    "fit3 = poly.Polynomial(np.append(coef3, c3))\n",
    "fit5 = poly.Polynomial(np.append(coef5, c5))\n",
    "fit10 = poly.Polynomial(np.append(coef10, c10))\n",
    "fit25 = poly.Polynomial(np.append(coef25, c25))\n",
    "\n",
    "sorted_x = np.asarray(sorted(x_train))\n",
    "plt.scatter(x_train, y_train, color='green')\n",
    "plt.plot(sorted_x, fit3(sorted_x), color='blue', label='Degree =3')\n",
    "plt.plot(sorted_x, fit5(sorted_x), color='red', label='Degree =5')\n",
    "plt.plot(sorted_x, fit10(sorted_x), color='orange', label='Degree =10')\n",
    "plt.plot(sorted_x, fit25(sorted_x), color='purple', label='Degree =25')\n",
    "plt.legend(loc='upper right')"
   ]
  },
  {
   "cell_type": "markdown",
   "metadata": {},
   "source": [
    "###  Part (b): Comparing training and test errors\n",
    "\n",
    "- Split the data set in Problem 2 each into training and test sets: use the first 50% of the data for training and the remaining for testing. \n",
    "\n",
    "\n",
    "- Fit polynomial models of varying degree ranging from 1 to 15 to the training sets. Evaluate  the various fits on **both** the training and the test sets. Plot both the R^2 score of the fitted polynomial models on the training and test sets as a functions of the degree. \n",
    "\n",
    "\n",
    "- Describe the relationship between degree of the polynomial model and the fit on both the training and testing data. Explain, based on the plot, what is the best polynomial model for the data."
   ]
  },
  {
   "cell_type": "code",
   "execution_count": 177,
   "metadata": {
    "collapsed": false
   },
   "outputs": [],
   "source": [
    "np.random.shuffle(data)\n",
    "fifty = int(len(data)*(0.5)) \n",
    "training, test = data[:fifty,:], data[fifty:,:]"
   ]
  },
  {
   "cell_type": "code",
   "execution_count": 178,
   "metadata": {
    "collapsed": false
   },
   "outputs": [
    {
     "name": "stdout",
     "output_type": "stream",
     "text": [
      "R-Squared Values for Training Set\n",
      "{1: 0.76029795510911258, 3: 0.94574307184497086, 5: 0.94587765019992887, 8: 0.94781035863199492, 10: 0.95583359784442579, 12: 0.95289703457421127, 15: 0.89028743821699963}\n",
      "R-Squared Values for Training Set\n",
      "{1: 0.75526449720821742, 3: 0.90376932811803601, 5: 0.9091676294067681, 8: 0.91413092605596857, 10: 0.91745811849626779, 12: 0.88884867869360529, 15: 0.90828118983948458}\n"
     ]
    }
   ],
   "source": [
    "x_train = training[:,0]\n",
    "y_train = training[:,1]\n",
    "x_test = test[:,0]\n",
    "y_test = test[:,1]\n",
    "\n",
    "plot_twist_test = {} # dictionary of {degree, r^2}\n",
    "plot_twist_train = {} # dictionary of {degree, r^2}\n",
    "\n",
    "degrees = [1,3,5,8,10,12,15]\n",
    "# will get fit and R^2 score for each degree for training and test then plot\n",
    "for num in degrees:\n",
    "\n",
    "    # training set \n",
    "    coef3, c3 = polynomial_regression_fit(x_train, y_train, num)\n",
    "    predicted_y = polynomial_regression_predict(coef3, c3, num, x_train)\n",
    "    are_squared = polynomial_regression_score(predicted_y, y_train)\n",
    "    plot_twist_train[num] = are_squared[0]\n",
    "        \n",
    "    # testing set\n",
    "    coef4, c4 = polynomial_regression_fit(x_test, y_test, num)\n",
    "    predicted_y = polynomial_regression_predict(coef4, c4, num, x_test)\n",
    "    are_squared = polynomial_regression_score(predicted_y, y_test)\n",
    "    plot_twist_test[num] = are_squared[0]\n",
    "\n",
    "print \"R-Squared Values for Training Set\"\n",
    "print plot_twist_train\n",
    "print \"R-Squared Values for Training Set\"\n",
    "print plot_twist_test\n"
   ]
  },
  {
   "cell_type": "code",
   "execution_count": 179,
   "metadata": {
    "collapsed": true
   },
   "outputs": [],
   "source": [
    "# Individually fit each model to asnwer quesstion 3\n",
    "coef1, c1 = polynomial_regression_fit(x_train, y_train, 1)\n",
    "predicted_y1 = polynomial_regression_predict(coef1, c1, 1, x_train)    \n",
    "\n",
    "coef3, c3 = polynomial_regression_fit(x_train, y_train, 3)\n",
    "predicted_y3 = polynomial_regression_predict(coef3, c3, 3, x_train)    \n",
    "\n",
    "coef5, c5 = polynomial_regression_fit(x_train, y_train, 5)\n",
    "predicted_y5 = polynomial_regression_predict(coef5, c5, 5, x_train)    \n",
    "\n",
    "coef8, c8 = polynomial_regression_fit(x_train, y_train, 8)\n",
    "predicted_y8 = polynomial_regression_predict(coef8, c8, 8, x_train)    \n",
    "\n",
    "coef10, c10 = polynomial_regression_fit(x_train, y_train, 10)\n",
    "predicted_y10 = polynomial_regression_predict(coef10, c10, 10, x_train)    \n",
    "\n",
    "coef12, c12 = polynomial_regression_fit(x_train, y_train, 12)\n",
    "predicted_y12 = polynomial_regression_predict(coef12, c12, 12, x_train)    \n",
    "\n",
    "coef15, c15 = polynomial_regression_fit(x_train, y_train, 15)\n",
    "predicted_y15 = polynomial_regression_predict(coef15, c15, 15, x_train)    "
   ]
  },
  {
   "cell_type": "code",
   "execution_count": 180,
   "metadata": {
    "collapsed": false
   },
   "outputs": [
    {
     "data": {
      "text/plain": [
       "<matplotlib.legend.Legend at 0x11d84d810>"
      ]
     },
     "execution_count": 180,
     "metadata": {},
     "output_type": "execute_result"
    },
    {
     "data": {
      "image/png": "[encoded data removed]",
      "text/plain": [
       "<matplotlib.figure.Figure at 0x12136b750>"
      ]
     },
     "metadata": {},
     "output_type": "display_data"
    }
   ],
   "source": [
    "degree_array = np.array(degrees)\n",
    "\n",
    "r_squared_test = []\n",
    "r_squared_train = []\n",
    "for val in degrees:\n",
    "    r_squared_test.append(plot_twist_test[val])\n",
    "    r_squared_train.append(plot_twist_train[val])\n",
    "\n",
    "test_r = np.asarray(sorted(np.array(r_squared_test)))\n",
    "train_r = np.asarray(sorted(np.array(r_squared_train)))\n",
    "\n",
    "plt.scatter(degree_array, test_r, color='red', label='Test')\n",
    "plt.scatter(degree_array, train_r, color='blue', label='Train')\n",
    "plt.legend(loc='lower right')"
   ]
  },
  {
   "cell_type": "markdown",
   "metadata": {},
   "source": [
    "**Answer ** As we can see from the graph above, there is a positive relationship between the degree of the polynomial model and the fit on both the training and the testing data. This relationship is expected as we know that when we increase the degree of the polynomial for the model, we increase the fit of the model. \n",
    "\n",
    "Based on the plot, the best polynomial would be that would the greatest R-squared value and this corresponds to the degree of 15, which can be seen as the farthest right red and blue data points in the graph. "
   ]
  },
  {
   "cell_type": "markdown",
   "metadata": {},
   "source": [
    "## Problem 3: Model selection criterion\n",
    "In this problem, we examine various criteria that help us decide how to choose between multiple models for the same data.\n",
    "\n",
    "###  Part (a): How does one choose the best polynomial degree?\n",
    "In Problem 2, you fitted polynomials of different degrees to the entire data set, and inspected the quality of fits on the test set. In practice, one needs to find the 'best' model for the given prediction task using **only** the training set. For this, we'll now make use of two model selection criteria, namely, the Akaike Information Criterion (AIC) and the Bayesian Information Criterion (BIC). These are evaluated on the training set, but serve as a proxy for the test set accuracy.\n",
    "\n",
    "For ``dataset_3.txt``, do the following:\n",
    "\n",
    "- For each polynomial model you fitted, compute the AIC and BIC for the model on the training set. Plot the criterion values as a function of the polynomial degree.\n",
    "\n",
    "\n",
    "- Which model is chosen by each criterion? Do they match with the model that yields maximum test R^2 score?"
   ]
  },
  {
   "cell_type": "code",
   "execution_count": 181,
   "metadata": {
    "collapsed": false
   },
   "outputs": [],
   "source": [
    "# y_actual will be y_train\n",
    "n = len(y_train)\n",
    "\n",
    "def rss(y_predicted, y_actual): # n x 2 for both\n",
    "    rss = sum((y_actual - y_predicted)**2)\n",
    "    return rss\n",
    "\n",
    "def return_AIC(n, k, rss):\n",
    "    aic = n*(np.log(rss/n)) + (2*k)\n",
    "    return aic\n",
    "    \n",
    "def return_BIC(n, k, rss):\n",
    "    bic = n*(np.log(rss/n)) + k*(np.log(n))\n",
    "    return bic\n",
    "\n",
    "plot_twist_aic = {} \n",
    "plot_twist_bic = {} \n",
    "\n",
    "rss1 = rss(predicted_y1, y_train)\n",
    "aic1 = return_AIC(n, 1, rss1)\n",
    "bic1 = return_BIC(n, 1, rss1)\n",
    "plot_twist_aic[1] = aic1\n",
    "plot_twist_bic[1] = bic1\n",
    "\n",
    "rss3 = rss(predicted_y3, y_train)\n",
    "aic3 = return_AIC(n, 3, rss3)\n",
    "bic3 = return_BIC(n, 3, rss3)\n",
    "plot_twist_aic[3] = aic3\n",
    "plot_twist_bic[3] = bic3\n",
    "\n",
    "rss5 = rss(predicted_y5, y_train)\n",
    "aic5 = return_AIC(n, 5, rss5)\n",
    "bic5 = return_BIC(n, 5, rss5)\n",
    "plot_twist_aic[5] = aic5\n",
    "plot_twist_bic[5] = bic5\n",
    "\n",
    "rss8 = rss(predicted_y8, y_train)\n",
    "aic8 = return_AIC(n, 8, rss1)\n",
    "bic8 = return_BIC(n, 8, rss1)\n",
    "plot_twist_aic[8] = aic8\n",
    "plot_twist_bic[8] = bic8\n",
    "\n",
    "rss10 = rss(predicted_y10, y_train)\n",
    "aic10 = return_AIC(n, 10, rss10)\n",
    "bic10 = return_BIC(n, 10, rss10)\n",
    "plot_twist_aic[10] = aic10\n",
    "plot_twist_bic[10] = bic10\n",
    "\n",
    "rss12 = rss(predicted_y12, y_train)\n",
    "aic12 = return_AIC(n, 12, rss12)\n",
    "bic12 = return_BIC(n, 12, rss12)\n",
    "plot_twist_aic[12] = aic12\n",
    "plot_twist_bic[12] = bic12\n",
    "\n",
    "rss15 = rss(predicted_y15, y_train)\n",
    "aic15 = return_AIC(n, 15, rss15)\n",
    "bic15 = return_BIC(n, 15, rss15)\n",
    "plot_twist_aic[15] = aic15\n",
    "plot_twist_bic[15] = bic15\n"
   ]
  },
  {
   "cell_type": "code",
   "execution_count": 182,
   "metadata": {
    "collapsed": false
   },
   "outputs": [
    {
     "data": {
      "text/plain": [
       "<matplotlib.legend.Legend at 0x11a054150>"
      ]
     },
     "execution_count": 182,
     "metadata": {},
     "output_type": "execute_result"
    },
    {
     "data": {
      "image/png": "[encoded data removed]",
      "text/plain": [
       "<matplotlib.figure.Figure at 0x11eaa5290>"
      ]
     },
     "metadata": {},
     "output_type": "display_data"
    }
   ],
   "source": [
    "bics = []\n",
    "aics = []\n",
    "for val in degrees:\n",
    "    bics.append(plot_twist_bic[val])\n",
    "    aics.append(plot_twist_aic[val])\n",
    "\n",
    "bics_sort = np.asarray(sorted(np.array(bics)))\n",
    "aics_sort = np.asarray(sorted(np.array(aics)))\n",
    "\n",
    "plt.scatter(degree_array, bics_sort, color='red', label='Bayesian IC')\n",
    "plt.scatter(degree_array, aics_sort, color='blue', label='Akaike IC')\n",
    "plt.legend(loc='lower right')"
   ]
  },
  {
   "cell_type": "code",
   "execution_count": 183,
   "metadata": {
    "collapsed": false
   },
   "outputs": [
    {
     "name": "stdout",
     "output_type": "stream",
     "text": [
      "0.955833597844\n",
      "15\n"
     ]
    }
   ],
   "source": [
    "# Max R-Squared:  \n",
    "rr = 0\n",
    "degg =0\n",
    "for deg, r_sq in plot_twist_train.iteritems():\n",
    "    if r_sq >= rr:\n",
    "        rr = r_sq\n",
    "        degg = deg\n",
    "    else:\n",
    "        pass\n",
    "print rr\n",
    "print deg\n"
   ]
  },
  {
   "cell_type": "code",
   "execution_count": 184,
   "metadata": {
    "collapsed": false
   },
   "outputs": [
    {
     "name": "stdout",
     "output_type": "stream",
     "text": [
      "-235.518007019\n",
      "15\n"
     ]
    }
   ],
   "source": [
    "# Min BIC:  \n",
    "bicc = 100\n",
    "degg =0\n",
    "for deg, bic in plot_twist_bic.iteritems():\n",
    "    if bic <= bicc:\n",
    "        bicc = bic\n",
    "        degg = deg\n",
    "    else:\n",
    "        pass\n",
    "print bicc\n",
    "print deg"
   ]
  },
  {
   "cell_type": "code",
   "execution_count": 185,
   "metadata": {
    "collapsed": false
   },
   "outputs": [
    {
     "name": "stdout",
     "output_type": "stream",
     "text": [
      "-241.254076036\n",
      "15\n"
     ]
    }
   ],
   "source": [
    "# Min AIC:  \n",
    "aicc = 100\n",
    "degg =0\n",
    "for deg, aic in plot_twist_aic.iteritems():\n",
    "    if aic <= aicc:\n",
    "        aicc = aic\n",
    "        degg = deg\n",
    "    else:\n",
    "        pass\n",
    "print aicc\n",
    "print deg"
   ]
  },
  {
   "cell_type": "markdown",
   "metadata": {},
   "source": [
    "**Answer ** As we can see above, the maximum R-squared value, minimum BIC value, and minimum AIC value all correspond to the model with degree 15. Using BIC and AIC values, we can suggest which model would give the best fit. This is done by minimizing these values. As seen above, the minumum value for each corresponds to the degree of 15. This matches with the model that yields the maximum test R-squared value, which is degree 15 as calculated above and as seen above in question 2 in the scatterplot in red."
   ]
  },
  {
   "cell_type": "markdown",
   "metadata": {},
   "source": [
    "### Part (b): Application to New York taxi cab density estimation\n",
    "\n",
    "We shall now apply the concepts learned so far to a real-world prediction task. You are asked to build a regression model for estimating the density of Green cab taxis at any given time of a day in New York city. The model needs to take the time of the day (in minutes) as input, and predict the expected number of pick ups at that time.\n",
    "\n",
    "The data set for this problem can be downloaded from the following URL: https://s3.amazonaws.com/nyc-tlc/trip+data/green_tripdata_2015-01.csv. The file contains the details of all pickups by Green cabs in New York City during January 2015. "
   ]
  },
  {
   "cell_type": "code",
   "execution_count": 139,
   "metadata": {
    "collapsed": false,
    "scrolled": true
   },
   "outputs": [
    {
     "data": {
      "text/html": [
       "<div>\n",
       "<table border=\"1\" class=\"dataframe\">\n",
       "  <thead>\n",
       "    <tr style=\"text-align: right;\">\n",
       "      <th></th>\n",
       "      <th></th>\n",
       "      <th>VendorID</th>\n",
       "      <th>lpep_pickup_datetime</th>\n",
       "      <th>Lpep_dropoff_datetime</th>\n",
       "      <th>Store_and_fwd_flag</th>\n",
       "      <th>RateCodeID</th>\n",
       "      <th>Pickup_longitude</th>\n",
       "      <th>Pickup_latitude</th>\n",
       "      <th>Dropoff_longitude</th>\n",
       "      <th>Dropoff_latitude</th>\n",
       "      <th>Passenger_count</th>\n",
       "      <th>...</th>\n",
       "      <th>Fare_amount</th>\n",
       "      <th>Extra</th>\n",
       "      <th>MTA_tax</th>\n",
       "      <th>Tip_amount</th>\n",
       "      <th>Tolls_amount</th>\n",
       "      <th>Ehail_fee</th>\n",
       "      <th>improvement_surcharge</th>\n",
       "      <th>Total_amount</th>\n",
       "      <th>Payment_type</th>\n",
       "      <th>Trip_type</th>\n",
       "    </tr>\n",
       "  </thead>\n",
       "  <tbody>\n",
       "    <tr>\n",
       "      <th rowspan=\"2\" valign=\"top\">2</th>\n",
       "      <th>2015-01-01 00:34:42</th>\n",
       "      <td>2015-01-01 00:38:34</td>\n",
       "      <td>N</td>\n",
       "      <td>1</td>\n",
       "      <td>-73.922592</td>\n",
       "      <td>40.754528</td>\n",
       "      <td>-73.913635</td>\n",
       "      <td>40.765522</td>\n",
       "      <td>1</td>\n",
       "      <td>0.88</td>\n",
       "      <td>5.0</td>\n",
       "      <td>...</td>\n",
       "      <td>0.5</td>\n",
       "      <td>0.0</td>\n",
       "      <td>0.0</td>\n",
       "      <td>NaN</td>\n",
       "      <td>0.3</td>\n",
       "      <td>6.3</td>\n",
       "      <td>2</td>\n",
       "      <td>1.0</td>\n",
       "      <td>NaN</td>\n",
       "      <td>NaN</td>\n",
       "    </tr>\n",
       "    <tr>\n",
       "      <th>2015-01-01 00:34:46</th>\n",
       "      <td>2015-01-01 00:47:23</td>\n",
       "      <td>N</td>\n",
       "      <td>1</td>\n",
       "      <td>-73.952751</td>\n",
       "      <td>40.677711</td>\n",
       "      <td>-73.981529</td>\n",
       "      <td>40.658978</td>\n",
       "      <td>1</td>\n",
       "      <td>3.08</td>\n",
       "      <td>12.0</td>\n",
       "      <td>...</td>\n",
       "      <td>0.5</td>\n",
       "      <td>0.0</td>\n",
       "      <td>0.0</td>\n",
       "      <td>NaN</td>\n",
       "      <td>0.3</td>\n",
       "      <td>13.3</td>\n",
       "      <td>2</td>\n",
       "      <td>1.0</td>\n",
       "      <td>NaN</td>\n",
       "      <td>NaN</td>\n",
       "    </tr>\n",
       "    <tr>\n",
       "      <th>1</th>\n",
       "      <th>2015-01-01 00:34:44</th>\n",
       "      <td>2015-01-01 00:38:15</td>\n",
       "      <td>N</td>\n",
       "      <td>1</td>\n",
       "      <td>-73.843010</td>\n",
       "      <td>40.719055</td>\n",
       "      <td>-73.846581</td>\n",
       "      <td>40.711567</td>\n",
       "      <td>1</td>\n",
       "      <td>0.90</td>\n",
       "      <td>5.0</td>\n",
       "      <td>...</td>\n",
       "      <td>0.5</td>\n",
       "      <td>1.8</td>\n",
       "      <td>0.0</td>\n",
       "      <td>NaN</td>\n",
       "      <td>0.0</td>\n",
       "      <td>7.8</td>\n",
       "      <td>1</td>\n",
       "      <td>1.0</td>\n",
       "      <td>NaN</td>\n",
       "      <td>NaN</td>\n",
       "    </tr>\n",
       "    <tr>\n",
       "      <th rowspan=\"2\" valign=\"top\">2</th>\n",
       "      <th>2015-01-01 00:34:48</th>\n",
       "      <td>2015-01-01 00:38:08</td>\n",
       "      <td>N</td>\n",
       "      <td>1</td>\n",
       "      <td>-73.860825</td>\n",
       "      <td>40.757793</td>\n",
       "      <td>-73.854042</td>\n",
       "      <td>40.749821</td>\n",
       "      <td>1</td>\n",
       "      <td>0.85</td>\n",
       "      <td>5.0</td>\n",
       "      <td>...</td>\n",
       "      <td>0.5</td>\n",
       "      <td>0.0</td>\n",
       "      <td>0.0</td>\n",
       "      <td>NaN</td>\n",
       "      <td>0.3</td>\n",
       "      <td>6.3</td>\n",
       "      <td>2</td>\n",
       "      <td>1.0</td>\n",
       "      <td>NaN</td>\n",
       "      <td>NaN</td>\n",
       "    </tr>\n",
       "    <tr>\n",
       "      <th>2015-01-01 00:34:53</th>\n",
       "      <td>2015-01-01 01:09:10</td>\n",
       "      <td>N</td>\n",
       "      <td>1</td>\n",
       "      <td>-73.945183</td>\n",
       "      <td>40.783321</td>\n",
       "      <td>-73.989624</td>\n",
       "      <td>40.765450</td>\n",
       "      <td>1</td>\n",
       "      <td>4.91</td>\n",
       "      <td>24.5</td>\n",
       "      <td>...</td>\n",
       "      <td>0.5</td>\n",
       "      <td>0.0</td>\n",
       "      <td>0.0</td>\n",
       "      <td>NaN</td>\n",
       "      <td>0.3</td>\n",
       "      <td>25.8</td>\n",
       "      <td>2</td>\n",
       "      <td>1.0</td>\n",
       "      <td>NaN</td>\n",
       "      <td>NaN</td>\n",
       "    </tr>\n",
       "  </tbody>\n",
       "</table>\n",
       "<p>5 rows × 21 columns</p>\n",
       "</div>"
      ],
      "text/plain": [
       "                                  VendorID lpep_pickup_datetime  \\\n",
       "2 2015-01-01 00:34:42  2015-01-01 00:38:34                    N   \n",
       "  2015-01-01 00:34:46  2015-01-01 00:47:23                    N   \n",
       "1 2015-01-01 00:34:44  2015-01-01 00:38:15                    N   \n",
       "2 2015-01-01 00:34:48  2015-01-01 00:38:08                    N   \n",
       "  2015-01-01 00:34:53  2015-01-01 01:09:10                    N   \n",
       "\n",
       "                       Lpep_dropoff_datetime  Store_and_fwd_flag  RateCodeID  \\\n",
       "2 2015-01-01 00:34:42                      1          -73.922592   40.754528   \n",
       "  2015-01-01 00:34:46                      1          -73.952751   40.677711   \n",
       "1 2015-01-01 00:34:44                      1          -73.843010   40.719055   \n",
       "2 2015-01-01 00:34:48                      1          -73.860825   40.757793   \n",
       "  2015-01-01 00:34:53                      1          -73.945183   40.783321   \n",
       "\n",
       "                       Pickup_longitude  Pickup_latitude  Dropoff_longitude  \\\n",
       "2 2015-01-01 00:34:42        -73.913635        40.765522                  1   \n",
       "  2015-01-01 00:34:46        -73.981529        40.658978                  1   \n",
       "1 2015-01-01 00:34:44        -73.846581        40.711567                  1   \n",
       "2 2015-01-01 00:34:48        -73.854042        40.749821                  1   \n",
       "  2015-01-01 00:34:53        -73.989624        40.765450                  1   \n",
       "\n",
       "                       Dropoff_latitude  Passenger_count     ...      \\\n",
       "2 2015-01-01 00:34:42              0.88              5.0     ...       \n",
       "  2015-01-01 00:34:46              3.08             12.0     ...       \n",
       "1 2015-01-01 00:34:44              0.90              5.0     ...       \n",
       "2 2015-01-01 00:34:48              0.85              5.0     ...       \n",
       "  2015-01-01 00:34:53              4.91             24.5     ...       \n",
       "\n",
       "                       Fare_amount  Extra  MTA_tax  Tip_amount  Tolls_amount  \\\n",
       "2 2015-01-01 00:34:42          0.5    0.0      0.0         NaN           0.3   \n",
       "  2015-01-01 00:34:46          0.5    0.0      0.0         NaN           0.3   \n",
       "1 2015-01-01 00:34:44          0.5    1.8      0.0         NaN           0.0   \n",
       "2 2015-01-01 00:34:48          0.5    0.0      0.0         NaN           0.3   \n",
       "  2015-01-01 00:34:53          0.5    0.0      0.0         NaN           0.3   \n",
       "\n",
       "                       Ehail_fee  improvement_surcharge  Total_amount  \\\n",
       "2 2015-01-01 00:34:42        6.3                      2           1.0   \n",
       "  2015-01-01 00:34:46       13.3                      2           1.0   \n",
       "1 2015-01-01 00:34:44        7.8                      1           1.0   \n",
       "2 2015-01-01 00:34:48        6.3                      2           1.0   \n",
       "  2015-01-01 00:34:53       25.8                      2           1.0   \n",
       "\n",
       "                       Payment_type  Trip_type   \n",
       "2 2015-01-01 00:34:42           NaN         NaN  \n",
       "  2015-01-01 00:34:46           NaN         NaN  \n",
       "1 2015-01-01 00:34:44           NaN         NaN  \n",
       "2 2015-01-01 00:34:48           NaN         NaN  \n",
       "  2015-01-01 00:34:53           NaN         NaN  \n",
       "\n",
       "[5 rows x 21 columns]"
      ]
     },
     "execution_count": 139,
     "metadata": {},
     "output_type": "execute_result"
    }
   ],
   "source": [
    "df = pd.read_csv('green_tripdata_2015-02.csv')\n",
    "df.head()"
   ]
  },
  {
   "cell_type": "code",
   "execution_count": 159,
   "metadata": {
    "collapsed": false
   },
   "outputs": [
    {
     "name": "stdout",
     "output_type": "stream",
     "text": [
      "['2015-01-01 00:38:34' '2015-01-01 00:47:23' '2015-01-01 00:38:15' ...,\n",
      " '2015-01-31 23:29:48' '2015-01-31 23:29:32' '2015-01-31 23:04:57']\n"
     ]
    }
   ],
   "source": [
    "df_mat = df.as_matrix(columns=df.columns[0:])\n",
    "print df_mata[:,0]"
   ]
  },
  {
   "cell_type": "code",
   "execution_count": 186,
   "metadata": {
    "collapsed": false
   },
   "outputs": [
    {
     "name": "stdout",
     "output_type": "stream",
     "text": [
      "time of day ['2015-01-31 00:52:46' '2015-01-07 11:05:17' '2015-01-26 13:13:25' ...,\n",
      " '2015-01-31 23:41:54' '2015-01-08 12:14:10' '2015-01-16 04:25:10']\n",
      "Passengers [5.0 29.0 7.5 ..., 16.5 9.0 42.5]\n"
     ]
    }
   ],
   "source": [
    "np.random.shuffle(df_mat)\n",
    "fifty = int(len(df_mat)*(0.5)) \n",
    "training, test = df_mat[:fifty,:], df_mat[fifty:,:]\n",
    "\n",
    "x_train = training[:,0]\n",
    "y_train = training[:,9]\n",
    "x_test = test[:,0]\n",
    "y_test = test[:,9]\n",
    "\n",
    "print 'time of day' , x_train\n",
    "print 'Passengers' , y_train"
   ]
  },
  {
   "cell_type": "code",
   "execution_count": null,
   "metadata": {
    "collapsed": true
   },
   "outputs": [],
   "source": [
    "# 3, 5, 10 25\n",
    "coef3, c3 = polynomial_regression_fit(x_train, y_train, 3)\n",
    "coef5, c5 = polynomial_regression_fit(x_train, y_train, 5)\n",
    "coef10, c10 = polynomial_regression_fit(x_train, y_train, 10)\n",
    "coef25, c25 = polynomial_regression_fit(x_train, y_train, 25)\n",
    "\n",
    "fit3 = poly.Polynomial(np.append(coef3, c3))\n",
    "fit5 = poly.Polynomial(np.append(coef5, c5))\n",
    "fit10 = poly.Polynomial(np.append(coef10, c10))\n",
    "fit25 = poly.Polynomial(np.append(coef25, c25))\n",
    "\n",
    "sorted_x = np.asarray(sorted(x_train))\n",
    "plt.scatter(x_train, y_train, color='green')\n",
    "plt.plot(sorted_x, fit3(sorted_x), color='blue', label='Degree =3')\n",
    "plt.plot(sorted_x, fit5(sorted_x), color='red', label='Degree =5')\n",
    "plt.plot(sorted_x, fit10(sorted_x), color='orange', label='Degree =10')\n",
    "plt.plot(sorted_x, fit25(sorted_x), color='purple', label='Degree =25')\n",
    "plt.legend(loc='upper right')"
   ]
  },
  {
   "cell_type": "markdown",
   "metadata": {},
   "source": [
    "## Challenge Problem: Advanced regression techniques\n",
    "In this problem, we revisit the automobile pricing data set in Problem 1(a) and explore advanced regression techniques to build better models. \n",
    "\n",
    "\n",
    "### Part (a): Polynomial regression on multi-dimensions\n",
    "In Problems 2-3, you had implemented a polynomial regression technique for data sets with a single predictor variable. How would you use a similar approach to fit a polynomial model on data sets with more than one predictor?\n",
    "\n",
    "Reload ``dataset_1_train.txt`` and ``dataset_1_test.txt``. Fit polynomial models of degrees 2 and 3 to the training set, and evaluate the R^2 score of the fitted model on the test set. How do they compare with the test performance of a linear regression model?"
   ]
  },
  {
   "cell_type": "markdown",
   "metadata": {},
   "source": [
    "** Answer** We could use a similar approach to fit a polynomial model on data sets with more than one predictor by having more than one predictor and calculating the R-squared value for a model and picking the model with the highest R-squared value. Similarly, we could use the BIC and AID methods to determine which model would work the best with our data. "
   ]
  },
  {
   "cell_type": "markdown",
   "metadata": {},
   "source": [
    "### Part (b): Weighted linear regression\n",
    "\n",
    "Suppose you are told that some of the prices recorded in the training set are noisy, and you are given the list of noisy points, how would you use this information during training to fit a better regression model?\n",
    "\n",
    "The noise level for each training point is provided in the file dataset_1_train_noise_levels.txt. A noise level 'none' indicates that the price is accurate, and a noise level 'noisy' indicates that the price is only moderately accurate. \n",
    "\n",
    "We want to fit a linear regression model that accounts for this new information. One way to do this is to assign different weights to each training point based on the amount of noise associated to that training point. That is, our loss function is now\n",
    "$$\n",
    "\\sum_{i=1}^n \\alpha_i\\,(y_i \\,-\\, w^T x_i)^2\n",
    "$$\n",
    "where $\\alpha_i$ is a number representing how much you value the contribution of the data point $x_i$.\n",
    "\n",
    "How does the R^2 score (evaluated on the test set) of the new linear model compare to the one fitted using plain linear regression?"
   ]
  },
  {
   "cell_type": "markdown",
   "metadata": {},
   "source": [
    "**__Answer__** Noise in a dataset can result in lower accuracy of our model and data in general. Knowing about noisy datapoints can allow us to adjust for these datapoints, like we might remove outliers and adjust for these points with very high residuals, which are not representative of the majority of the data. \n",
    "\n",
    "Though I was not able to get to the challenge problem, based on my current understanding of R-squared values and their use in determining the 'best fit model', the R-squared value will increase with each predictor that is added to the model. In other words, the R-squared term will be greater for a new linear model compared with one fitted using plain linear regression. However, the R-squared value should be interpreted carefully as the highest R-squared value does not always indivate the best model. A model with 10 covariates, including driver age, license plate number, and vehicle color, for example, would not necessarily be the best fit for the data, though it might give rise to the highest R-squared value. Therefore, sometimes it is better to go for a simple model which has an R-squared value which accurately represents the whether the variation in data is due to the covariates. "
   ]
  }
 ],
 "metadata": {
  "anaconda-cloud": {},
  "kernelspec": {
   "display_name": "Python [Root]",
   "language": "python",
   "name": "Python [Root]"
  },
  "language_info": {
   "codemirror_mode": {
    "name": "ipython",
    "version": 2
   },
   "file_extension": ".py",
   "mimetype": "text/x-python",
   "name": "python",
   "nbconvert_exporter": "python",
   "pygments_lexer": "ipython2",
   "version": "2.7.12"
  }
 },
 "nbformat": 4,
 "nbformat_minor": 0
}
